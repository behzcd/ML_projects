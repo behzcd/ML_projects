{
  "nbformat": 4,
  "nbformat_minor": 0,
  "metadata": {
    "colab": {
      "provenance": [],
      "include_colab_link": true
    },
    "kernelspec": {
      "name": "python3",
      "display_name": "Python 3"
    },
    "language_info": {
      "name": "python"
    }
  },
  "cells": [
    {
      "cell_type": "markdown",
      "metadata": {
        "id": "view-in-github",
        "colab_type": "text"
      },
      "source": [
        "<a href=\"https://colab.research.google.com/github/behzcd/ML_projects/blob/main/Tashkent_HousePrice_Forecasting.ipynb\" target=\"_parent\"><img src=\"https://colab.research.google.com/assets/colab-badge.svg\" alt=\"Open In Colab\"/></a>"
      ]
    },
    {
      "cell_type": "markdown",
      "source": [
        "# Tashkent House Price Forecasting Model\n",
        "\n",
        "####ML Model\n",
        "\n",
        "\n"
      ],
      "metadata": {
        "id": "tgzC39RUcDLy"
      }
    },
    {
      "cell_type": "code",
      "execution_count": 61,
      "metadata": {
        "colab": {
          "base_uri": "https://localhost:8080/",
          "height": 206
        },
        "id": "ZNYzfPKab-o4",
        "outputId": "0985a15b-91a3-45ce-8d10-f2c591a5de0a"
      },
      "outputs": [
        {
          "output_type": "execute_result",
          "data": {
            "text/plain": [
              "                                            location       district  rooms  \\\n",
              "0  город Ташкент, Юнусабадский район, Юнусабад 8-...   Юнусабадский      3   \n",
              "1  город Ташкент, Яккасарайский район, 1-й тупик ...  Яккасарайский      2   \n",
              "2  город Ташкент, Чиланзарский район, Чиланзар 2-...   Чиланзарский      2   \n",
              "3  город Ташкент, Чиланзарский район, Чиланзар 9-...   Чиланзарский      3   \n",
              "4  город Ташкент, Чиланзарский район, площадь Актепа   Чиланзарский      3   \n",
              "\n",
              "  size  level  max_levels  price  \n",
              "0   57      4           4  52000  \n",
              "1   52      4           5  56000  \n",
              "2   42      4           4  37000  \n",
              "3   65      1           4  49500  \n",
              "4   70      3           5  55000  "
            ],
            "text/html": [
              "\n",
              "  <div id=\"df-47d18a4d-89a7-4c2d-aceb-f8efed8b0df9\">\n",
              "    <div class=\"colab-df-container\">\n",
              "      <div>\n",
              "<style scoped>\n",
              "    .dataframe tbody tr th:only-of-type {\n",
              "        vertical-align: middle;\n",
              "    }\n",
              "\n",
              "    .dataframe tbody tr th {\n",
              "        vertical-align: top;\n",
              "    }\n",
              "\n",
              "    .dataframe thead th {\n",
              "        text-align: right;\n",
              "    }\n",
              "</style>\n",
              "<table border=\"1\" class=\"dataframe\">\n",
              "  <thead>\n",
              "    <tr style=\"text-align: right;\">\n",
              "      <th></th>\n",
              "      <th>location</th>\n",
              "      <th>district</th>\n",
              "      <th>rooms</th>\n",
              "      <th>size</th>\n",
              "      <th>level</th>\n",
              "      <th>max_levels</th>\n",
              "      <th>price</th>\n",
              "    </tr>\n",
              "  </thead>\n",
              "  <tbody>\n",
              "    <tr>\n",
              "      <th>0</th>\n",
              "      <td>город Ташкент, Юнусабадский район, Юнусабад 8-...</td>\n",
              "      <td>Юнусабадский</td>\n",
              "      <td>3</td>\n",
              "      <td>57</td>\n",
              "      <td>4</td>\n",
              "      <td>4</td>\n",
              "      <td>52000</td>\n",
              "    </tr>\n",
              "    <tr>\n",
              "      <th>1</th>\n",
              "      <td>город Ташкент, Яккасарайский район, 1-й тупик ...</td>\n",
              "      <td>Яккасарайский</td>\n",
              "      <td>2</td>\n",
              "      <td>52</td>\n",
              "      <td>4</td>\n",
              "      <td>5</td>\n",
              "      <td>56000</td>\n",
              "    </tr>\n",
              "    <tr>\n",
              "      <th>2</th>\n",
              "      <td>город Ташкент, Чиланзарский район, Чиланзар 2-...</td>\n",
              "      <td>Чиланзарский</td>\n",
              "      <td>2</td>\n",
              "      <td>42</td>\n",
              "      <td>4</td>\n",
              "      <td>4</td>\n",
              "      <td>37000</td>\n",
              "    </tr>\n",
              "    <tr>\n",
              "      <th>3</th>\n",
              "      <td>город Ташкент, Чиланзарский район, Чиланзар 9-...</td>\n",
              "      <td>Чиланзарский</td>\n",
              "      <td>3</td>\n",
              "      <td>65</td>\n",
              "      <td>1</td>\n",
              "      <td>4</td>\n",
              "      <td>49500</td>\n",
              "    </tr>\n",
              "    <tr>\n",
              "      <th>4</th>\n",
              "      <td>город Ташкент, Чиланзарский район, площадь Актепа</td>\n",
              "      <td>Чиланзарский</td>\n",
              "      <td>3</td>\n",
              "      <td>70</td>\n",
              "      <td>3</td>\n",
              "      <td>5</td>\n",
              "      <td>55000</td>\n",
              "    </tr>\n",
              "  </tbody>\n",
              "</table>\n",
              "</div>\n",
              "      <button class=\"colab-df-convert\" onclick=\"convertToInteractive('df-47d18a4d-89a7-4c2d-aceb-f8efed8b0df9')\"\n",
              "              title=\"Convert this dataframe to an interactive table.\"\n",
              "              style=\"display:none;\">\n",
              "        \n",
              "  <svg xmlns=\"http://www.w3.org/2000/svg\" height=\"24px\"viewBox=\"0 0 24 24\"\n",
              "       width=\"24px\">\n",
              "    <path d=\"M0 0h24v24H0V0z\" fill=\"none\"/>\n",
              "    <path d=\"M18.56 5.44l.94 2.06.94-2.06 2.06-.94-2.06-.94-.94-2.06-.94 2.06-2.06.94zm-11 1L8.5 8.5l.94-2.06 2.06-.94-2.06-.94L8.5 2.5l-.94 2.06-2.06.94zm10 10l.94 2.06.94-2.06 2.06-.94-2.06-.94-.94-2.06-.94 2.06-2.06.94z\"/><path d=\"M17.41 7.96l-1.37-1.37c-.4-.4-.92-.59-1.43-.59-.52 0-1.04.2-1.43.59L10.3 9.45l-7.72 7.72c-.78.78-.78 2.05 0 2.83L4 21.41c.39.39.9.59 1.41.59.51 0 1.02-.2 1.41-.59l7.78-7.78 2.81-2.81c.8-.78.8-2.07 0-2.86zM5.41 20L4 18.59l7.72-7.72 1.47 1.35L5.41 20z\"/>\n",
              "  </svg>\n",
              "      </button>\n",
              "      \n",
              "  <style>\n",
              "    .colab-df-container {\n",
              "      display:flex;\n",
              "      flex-wrap:wrap;\n",
              "      gap: 12px;\n",
              "    }\n",
              "\n",
              "    .colab-df-convert {\n",
              "      background-color: #E8F0FE;\n",
              "      border: none;\n",
              "      border-radius: 50%;\n",
              "      cursor: pointer;\n",
              "      display: none;\n",
              "      fill: #1967D2;\n",
              "      height: 32px;\n",
              "      padding: 0 0 0 0;\n",
              "      width: 32px;\n",
              "    }\n",
              "\n",
              "    .colab-df-convert:hover {\n",
              "      background-color: #E2EBFA;\n",
              "      box-shadow: 0px 1px 2px rgba(60, 64, 67, 0.3), 0px 1px 3px 1px rgba(60, 64, 67, 0.15);\n",
              "      fill: #174EA6;\n",
              "    }\n",
              "\n",
              "    [theme=dark] .colab-df-convert {\n",
              "      background-color: #3B4455;\n",
              "      fill: #D2E3FC;\n",
              "    }\n",
              "\n",
              "    [theme=dark] .colab-df-convert:hover {\n",
              "      background-color: #434B5C;\n",
              "      box-shadow: 0px 1px 3px 1px rgba(0, 0, 0, 0.15);\n",
              "      filter: drop-shadow(0px 1px 2px rgba(0, 0, 0, 0.3));\n",
              "      fill: #FFFFFF;\n",
              "    }\n",
              "  </style>\n",
              "\n",
              "      <script>\n",
              "        const buttonEl =\n",
              "          document.querySelector('#df-47d18a4d-89a7-4c2d-aceb-f8efed8b0df9 button.colab-df-convert');\n",
              "        buttonEl.style.display =\n",
              "          google.colab.kernel.accessAllowed ? 'block' : 'none';\n",
              "\n",
              "        async function convertToInteractive(key) {\n",
              "          const element = document.querySelector('#df-47d18a4d-89a7-4c2d-aceb-f8efed8b0df9');\n",
              "          const dataTable =\n",
              "            await google.colab.kernel.invokeFunction('convertToInteractive',\n",
              "                                                     [key], {});\n",
              "          if (!dataTable) return;\n",
              "\n",
              "          const docLinkHtml = 'Like what you see? Visit the ' +\n",
              "            '<a target=\"_blank\" href=https://colab.research.google.com/notebooks/data_table.ipynb>data table notebook</a>'\n",
              "            + ' to learn more about interactive tables.';\n",
              "          element.innerHTML = '';\n",
              "          dataTable['output_type'] = 'display_data';\n",
              "          await google.colab.output.renderOutput(dataTable, element);\n",
              "          const docLink = document.createElement('div');\n",
              "          docLink.innerHTML = docLinkHtml;\n",
              "          element.appendChild(docLink);\n",
              "        }\n",
              "      </script>\n",
              "    </div>\n",
              "  </div>\n",
              "  "
            ]
          },
          "metadata": {},
          "execution_count": 61
        }
      ],
      "source": [
        "import pandas as pd\n",
        "df = pd.read_csv('https://raw.githubusercontent.com/anvarnarz/praktikum_datasets/main/housing_data_08-02-2021.csv')\n",
        "df.head()"
      ]
    },
    {
      "cell_type": "markdown",
      "source": [
        "# In this project, I have used the CRSIP-DM Methodology.\n",
        "\n",
        "![dzZnnYi.png](data:image/png;base64,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)\n",
        "\n"
      ],
      "metadata": {
        "id": "A1wt67xRcPcB"
      }
    },
    {
      "cell_type": "markdown",
      "source": [
        "#STEP 1. BUSINES UNDERSTANDING.\n",
        "\n",
        "So, A campany wants us to make a model which forecats the prices of the houses built in Tashkent regions. The company is going to use it in building the future houses in that city. \n",
        "\n",
        "- **The given Data**: The result of a survey conducted for the population census in Tashkent. It consists some information about where the houses are located, the number of the rooms, in which floor they are, the size of the whole building, and house prices. \n",
        "\n",
        "- So, **the Project** is to make a model by using the data given, which assumes the median prices of the houses in different region of the city.\n",
        "\n",
        "###Analitical Approach.\n",
        "\n",
        "- Model: Supervised, Unsupervised, Reinforcement?\n",
        "- Algorithm: Classification, Regression, or other kinds?\n",
        "- Method: Online or Offline?\n",
        "\n",
        "The answer to the questions above:\n",
        "\n",
        "\n",
        "1.   **Supervised learning** - because we have the Label in the data. It is the Median parices in the region. We are also axactly going to forecast those prices.\n",
        "2.   **Regression** - We used the term 'Forecasting' and this means it is handled by the regression algorithms.\n",
        "3.   **Offline** - because the data has been already given one time. There is no any up-to-date, constant data flow. \n",
        "\n"
      ],
      "metadata": {
        "id": "ECbq9u5jIV0D"
      }
    },
    {
      "cell_type": "markdown",
      "source": [
        "#STEP 2. DATA UNDERSTANDING."
      ],
      "metadata": {
        "id": "-rJKBbufQiCa"
      }
    },
    {
      "cell_type": "code",
      "source": [
        "import numpy as np\n",
        "import matplotlib.pyplot as plt\n",
        "import seaborn as sns\n",
        "import sklearn"
      ],
      "metadata": {
        "id": "PD50xU9gISnm"
      },
      "execution_count": 62,
      "outputs": []
    },
    {
      "cell_type": "code",
      "source": [
        "df.head()"
      ],
      "metadata": {
        "id": "6eM0YMZJRGNd",
        "outputId": "ea5b3e52-318d-4916-d497-bc0efecc0ac4",
        "colab": {
          "base_uri": "https://localhost:8080/",
          "height": 206
        }
      },
      "execution_count": 63,
      "outputs": [
        {
          "output_type": "execute_result",
          "data": {
            "text/plain": [
              "                                            location       district  rooms  \\\n",
              "0  город Ташкент, Юнусабадский район, Юнусабад 8-...   Юнусабадский      3   \n",
              "1  город Ташкент, Яккасарайский район, 1-й тупик ...  Яккасарайский      2   \n",
              "2  город Ташкент, Чиланзарский район, Чиланзар 2-...   Чиланзарский      2   \n",
              "3  город Ташкент, Чиланзарский район, Чиланзар 9-...   Чиланзарский      3   \n",
              "4  город Ташкент, Чиланзарский район, площадь Актепа   Чиланзарский      3   \n",
              "\n",
              "  size  level  max_levels  price  \n",
              "0   57      4           4  52000  \n",
              "1   52      4           5  56000  \n",
              "2   42      4           4  37000  \n",
              "3   65      1           4  49500  \n",
              "4   70      3           5  55000  "
            ],
            "text/html": [
              "\n",
              "  <div id=\"df-970e810b-04e9-4b06-bf22-4b6913c925f4\">\n",
              "    <div class=\"colab-df-container\">\n",
              "      <div>\n",
              "<style scoped>\n",
              "    .dataframe tbody tr th:only-of-type {\n",
              "        vertical-align: middle;\n",
              "    }\n",
              "\n",
              "    .dataframe tbody tr th {\n",
              "        vertical-align: top;\n",
              "    }\n",
              "\n",
              "    .dataframe thead th {\n",
              "        text-align: right;\n",
              "    }\n",
              "</style>\n",
              "<table border=\"1\" class=\"dataframe\">\n",
              "  <thead>\n",
              "    <tr style=\"text-align: right;\">\n",
              "      <th></th>\n",
              "      <th>location</th>\n",
              "      <th>district</th>\n",
              "      <th>rooms</th>\n",
              "      <th>size</th>\n",
              "      <th>level</th>\n",
              "      <th>max_levels</th>\n",
              "      <th>price</th>\n",
              "    </tr>\n",
              "  </thead>\n",
              "  <tbody>\n",
              "    <tr>\n",
              "      <th>0</th>\n",
              "      <td>город Ташкент, Юнусабадский район, Юнусабад 8-...</td>\n",
              "      <td>Юнусабадский</td>\n",
              "      <td>3</td>\n",
              "      <td>57</td>\n",
              "      <td>4</td>\n",
              "      <td>4</td>\n",
              "      <td>52000</td>\n",
              "    </tr>\n",
              "    <tr>\n",
              "      <th>1</th>\n",
              "      <td>город Ташкент, Яккасарайский район, 1-й тупик ...</td>\n",
              "      <td>Яккасарайский</td>\n",
              "      <td>2</td>\n",
              "      <td>52</td>\n",
              "      <td>4</td>\n",
              "      <td>5</td>\n",
              "      <td>56000</td>\n",
              "    </tr>\n",
              "    <tr>\n",
              "      <th>2</th>\n",
              "      <td>город Ташкент, Чиланзарский район, Чиланзар 2-...</td>\n",
              "      <td>Чиланзарский</td>\n",
              "      <td>2</td>\n",
              "      <td>42</td>\n",
              "      <td>4</td>\n",
              "      <td>4</td>\n",
              "      <td>37000</td>\n",
              "    </tr>\n",
              "    <tr>\n",
              "      <th>3</th>\n",
              "      <td>город Ташкент, Чиланзарский район, Чиланзар 9-...</td>\n",
              "      <td>Чиланзарский</td>\n",
              "      <td>3</td>\n",
              "      <td>65</td>\n",
              "      <td>1</td>\n",
              "      <td>4</td>\n",
              "      <td>49500</td>\n",
              "    </tr>\n",
              "    <tr>\n",
              "      <th>4</th>\n",
              "      <td>город Ташкент, Чиланзарский район, площадь Актепа</td>\n",
              "      <td>Чиланзарский</td>\n",
              "      <td>3</td>\n",
              "      <td>70</td>\n",
              "      <td>3</td>\n",
              "      <td>5</td>\n",
              "      <td>55000</td>\n",
              "    </tr>\n",
              "  </tbody>\n",
              "</table>\n",
              "</div>\n",
              "      <button class=\"colab-df-convert\" onclick=\"convertToInteractive('df-970e810b-04e9-4b06-bf22-4b6913c925f4')\"\n",
              "              title=\"Convert this dataframe to an interactive table.\"\n",
              "              style=\"display:none;\">\n",
              "        \n",
              "  <svg xmlns=\"http://www.w3.org/2000/svg\" height=\"24px\"viewBox=\"0 0 24 24\"\n",
              "       width=\"24px\">\n",
              "    <path d=\"M0 0h24v24H0V0z\" fill=\"none\"/>\n",
              "    <path d=\"M18.56 5.44l.94 2.06.94-2.06 2.06-.94-2.06-.94-.94-2.06-.94 2.06-2.06.94zm-11 1L8.5 8.5l.94-2.06 2.06-.94-2.06-.94L8.5 2.5l-.94 2.06-2.06.94zm10 10l.94 2.06.94-2.06 2.06-.94-2.06-.94-.94-2.06-.94 2.06-2.06.94z\"/><path d=\"M17.41 7.96l-1.37-1.37c-.4-.4-.92-.59-1.43-.59-.52 0-1.04.2-1.43.59L10.3 9.45l-7.72 7.72c-.78.78-.78 2.05 0 2.83L4 21.41c.39.39.9.59 1.41.59.51 0 1.02-.2 1.41-.59l7.78-7.78 2.81-2.81c.8-.78.8-2.07 0-2.86zM5.41 20L4 18.59l7.72-7.72 1.47 1.35L5.41 20z\"/>\n",
              "  </svg>\n",
              "      </button>\n",
              "      \n",
              "  <style>\n",
              "    .colab-df-container {\n",
              "      display:flex;\n",
              "      flex-wrap:wrap;\n",
              "      gap: 12px;\n",
              "    }\n",
              "\n",
              "    .colab-df-convert {\n",
              "      background-color: #E8F0FE;\n",
              "      border: none;\n",
              "      border-radius: 50%;\n",
              "      cursor: pointer;\n",
              "      display: none;\n",
              "      fill: #1967D2;\n",
              "      height: 32px;\n",
              "      padding: 0 0 0 0;\n",
              "      width: 32px;\n",
              "    }\n",
              "\n",
              "    .colab-df-convert:hover {\n",
              "      background-color: #E2EBFA;\n",
              "      box-shadow: 0px 1px 2px rgba(60, 64, 67, 0.3), 0px 1px 3px 1px rgba(60, 64, 67, 0.15);\n",
              "      fill: #174EA6;\n",
              "    }\n",
              "\n",
              "    [theme=dark] .colab-df-convert {\n",
              "      background-color: #3B4455;\n",
              "      fill: #D2E3FC;\n",
              "    }\n",
              "\n",
              "    [theme=dark] .colab-df-convert:hover {\n",
              "      background-color: #434B5C;\n",
              "      box-shadow: 0px 1px 3px 1px rgba(0, 0, 0, 0.15);\n",
              "      filter: drop-shadow(0px 1px 2px rgba(0, 0, 0, 0.3));\n",
              "      fill: #FFFFFF;\n",
              "    }\n",
              "  </style>\n",
              "\n",
              "      <script>\n",
              "        const buttonEl =\n",
              "          document.querySelector('#df-970e810b-04e9-4b06-bf22-4b6913c925f4 button.colab-df-convert');\n",
              "        buttonEl.style.display =\n",
              "          google.colab.kernel.accessAllowed ? 'block' : 'none';\n",
              "\n",
              "        async function convertToInteractive(key) {\n",
              "          const element = document.querySelector('#df-970e810b-04e9-4b06-bf22-4b6913c925f4');\n",
              "          const dataTable =\n",
              "            await google.colab.kernel.invokeFunction('convertToInteractive',\n",
              "                                                     [key], {});\n",
              "          if (!dataTable) return;\n",
              "\n",
              "          const docLinkHtml = 'Like what you see? Visit the ' +\n",
              "            '<a target=\"_blank\" href=https://colab.research.google.com/notebooks/data_table.ipynb>data table notebook</a>'\n",
              "            + ' to learn more about interactive tables.';\n",
              "          element.innerHTML = '';\n",
              "          dataTable['output_type'] = 'display_data';\n",
              "          await google.colab.output.renderOutput(dataTable, element);\n",
              "          const docLink = document.createElement('div');\n",
              "          docLink.innerHTML = docLinkHtml;\n",
              "          element.appendChild(docLink);\n",
              "        }\n",
              "      </script>\n",
              "    </div>\n",
              "  </div>\n",
              "  "
            ]
          },
          "metadata": {},
          "execution_count": 63
        }
      ]
    },
    {
      "cell_type": "markdown",
      "source": [
        "# Definition of the columns:\n",
        "- `location` - the location of selling houses\n",
        "- `district` - the region where the houses are\n",
        "- `rooms` - the number of the rooms\n",
        "- `size` - house area (kv.m)\n",
        "- `level` - the floor where the house is located\n",
        "- `max_levels` - total number of floors\n",
        "- `price` - house price"
      ],
      "metadata": {
        "id": "XTnGRAV1RUXC"
      }
    },
    {
      "cell_type": "code",
      "source": [
        "df.info()"
      ],
      "metadata": {
        "id": "pvqbOBWbRQba",
        "outputId": "bfc63952-75d8-4950-8536-53feeb4898c0",
        "colab": {
          "base_uri": "https://localhost:8080/"
        }
      },
      "execution_count": 64,
      "outputs": [
        {
          "output_type": "stream",
          "name": "stdout",
          "text": [
            "<class 'pandas.core.frame.DataFrame'>\n",
            "RangeIndex: 7565 entries, 0 to 7564\n",
            "Data columns (total 7 columns):\n",
            " #   Column      Non-Null Count  Dtype \n",
            "---  ------      --------------  ----- \n",
            " 0   location    7565 non-null   object\n",
            " 1   district    7565 non-null   object\n",
            " 2   rooms       7565 non-null   int64 \n",
            " 3   size        7565 non-null   object\n",
            " 4   level       7565 non-null   int64 \n",
            " 5   max_levels  7565 non-null   int64 \n",
            " 6   price       7565 non-null   object\n",
            "dtypes: int64(3), object(4)\n",
            "memory usage: 413.8+ KB\n"
          ]
        }
      ]
    },
    {
      "cell_type": "code",
      "source": [
        "df['location'].value_counts()"
      ],
      "metadata": {
        "id": "tw6meg0eS-jb",
        "outputId": "12996c54-e457-4ad2-f5ca-22f7aeef480e",
        "colab": {
          "base_uri": "https://localhost:8080/"
        }
      },
      "execution_count": 65,
      "outputs": [
        {
          "output_type": "execute_result",
          "data": {
            "text/plain": [
              "город Ташкент, Чиланзарский район, Чиланзар                112\n",
              "город Ташкент, Яккасарайский район, Кушбеги                110\n",
              "город Ташкент, Мирзо-Улугбекский район, Буюк Ипак Йули      87\n",
              "город Ташкент, Яккасарайский район, Бабура                  82\n",
              "город Ташкент, Учтепинский район, Чиланзар 24-й квартал     79\n",
              "                                                          ... \n",
              "город Ташкент, Юнусабадский район, 8-й проезд Янгишахар      1\n",
              "город Ташкент, Учтепинский район, 1-й проезд Козигузар       1\n",
              "город Ташкент, Чиланзарский район, Яккабог                   1\n",
              "город Ташкент, Олмазорский район, Каракамыш2/4               1\n",
              "город Ташкент, Яшнободский район, Базар Кадышева             1\n",
              "Name: location, Length: 1600, dtype: int64"
            ]
          },
          "metadata": {},
          "execution_count": 65
        }
      ]
    },
    {
      "cell_type": "code",
      "source": [
        "len(df['location'].unique())"
      ],
      "metadata": {
        "id": "rPN5lQeKUrUa",
        "outputId": "ba7bfcbd-422f-4302-c249-9d10d327b6bb",
        "colab": {
          "base_uri": "https://localhost:8080/"
        }
      },
      "execution_count": 66,
      "outputs": [
        {
          "output_type": "execute_result",
          "data": {
            "text/plain": [
              "1600"
            ]
          },
          "metadata": {},
          "execution_count": 66
        }
      ]
    },
    {
      "cell_type": "code",
      "source": [
        "df.describe()"
      ],
      "metadata": {
        "id": "crtX04JdU3k6",
        "outputId": "50e4189c-9be1-4a78-da53-0e923f01aa87",
        "colab": {
          "base_uri": "https://localhost:8080/",
          "height": 300
        }
      },
      "execution_count": 67,
      "outputs": [
        {
          "output_type": "execute_result",
          "data": {
            "text/plain": [
              "             rooms        level   max_levels\n",
              "count  7565.000000  7565.000000  7565.000000\n",
              "mean      2.625644     3.699273     6.038202\n",
              "std       1.085201     2.237275     2.613271\n",
              "min       1.000000     1.000000     1.000000\n",
              "25%       2.000000     2.000000     4.000000\n",
              "50%       3.000000     3.000000     5.000000\n",
              "75%       3.000000     5.000000     9.000000\n",
              "max      10.000000    19.000000    25.000000"
            ],
            "text/html": [
              "\n",
              "  <div id=\"df-fd9c2a55-eb76-4ac6-a253-c871332f752f\">\n",
              "    <div class=\"colab-df-container\">\n",
              "      <div>\n",
              "<style scoped>\n",
              "    .dataframe tbody tr th:only-of-type {\n",
              "        vertical-align: middle;\n",
              "    }\n",
              "\n",
              "    .dataframe tbody tr th {\n",
              "        vertical-align: top;\n",
              "    }\n",
              "\n",
              "    .dataframe thead th {\n",
              "        text-align: right;\n",
              "    }\n",
              "</style>\n",
              "<table border=\"1\" class=\"dataframe\">\n",
              "  <thead>\n",
              "    <tr style=\"text-align: right;\">\n",
              "      <th></th>\n",
              "      <th>rooms</th>\n",
              "      <th>level</th>\n",
              "      <th>max_levels</th>\n",
              "    </tr>\n",
              "  </thead>\n",
              "  <tbody>\n",
              "    <tr>\n",
              "      <th>count</th>\n",
              "      <td>7565.000000</td>\n",
              "      <td>7565.000000</td>\n",
              "      <td>7565.000000</td>\n",
              "    </tr>\n",
              "    <tr>\n",
              "      <th>mean</th>\n",
              "      <td>2.625644</td>\n",
              "      <td>3.699273</td>\n",
              "      <td>6.038202</td>\n",
              "    </tr>\n",
              "    <tr>\n",
              "      <th>std</th>\n",
              "      <td>1.085201</td>\n",
              "      <td>2.237275</td>\n",
              "      <td>2.613271</td>\n",
              "    </tr>\n",
              "    <tr>\n",
              "      <th>min</th>\n",
              "      <td>1.000000</td>\n",
              "      <td>1.000000</td>\n",
              "      <td>1.000000</td>\n",
              "    </tr>\n",
              "    <tr>\n",
              "      <th>25%</th>\n",
              "      <td>2.000000</td>\n",
              "      <td>2.000000</td>\n",
              "      <td>4.000000</td>\n",
              "    </tr>\n",
              "    <tr>\n",
              "      <th>50%</th>\n",
              "      <td>3.000000</td>\n",
              "      <td>3.000000</td>\n",
              "      <td>5.000000</td>\n",
              "    </tr>\n",
              "    <tr>\n",
              "      <th>75%</th>\n",
              "      <td>3.000000</td>\n",
              "      <td>5.000000</td>\n",
              "      <td>9.000000</td>\n",
              "    </tr>\n",
              "    <tr>\n",
              "      <th>max</th>\n",
              "      <td>10.000000</td>\n",
              "      <td>19.000000</td>\n",
              "      <td>25.000000</td>\n",
              "    </tr>\n",
              "  </tbody>\n",
              "</table>\n",
              "</div>\n",
              "      <button class=\"colab-df-convert\" onclick=\"convertToInteractive('df-fd9c2a55-eb76-4ac6-a253-c871332f752f')\"\n",
              "              title=\"Convert this dataframe to an interactive table.\"\n",
              "              style=\"display:none;\">\n",
              "        \n",
              "  <svg xmlns=\"http://www.w3.org/2000/svg\" height=\"24px\"viewBox=\"0 0 24 24\"\n",
              "       width=\"24px\">\n",
              "    <path d=\"M0 0h24v24H0V0z\" fill=\"none\"/>\n",
              "    <path d=\"M18.56 5.44l.94 2.06.94-2.06 2.06-.94-2.06-.94-.94-2.06-.94 2.06-2.06.94zm-11 1L8.5 8.5l.94-2.06 2.06-.94-2.06-.94L8.5 2.5l-.94 2.06-2.06.94zm10 10l.94 2.06.94-2.06 2.06-.94-2.06-.94-.94-2.06-.94 2.06-2.06.94z\"/><path d=\"M17.41 7.96l-1.37-1.37c-.4-.4-.92-.59-1.43-.59-.52 0-1.04.2-1.43.59L10.3 9.45l-7.72 7.72c-.78.78-.78 2.05 0 2.83L4 21.41c.39.39.9.59 1.41.59.51 0 1.02-.2 1.41-.59l7.78-7.78 2.81-2.81c.8-.78.8-2.07 0-2.86zM5.41 20L4 18.59l7.72-7.72 1.47 1.35L5.41 20z\"/>\n",
              "  </svg>\n",
              "      </button>\n",
              "      \n",
              "  <style>\n",
              "    .colab-df-container {\n",
              "      display:flex;\n",
              "      flex-wrap:wrap;\n",
              "      gap: 12px;\n",
              "    }\n",
              "\n",
              "    .colab-df-convert {\n",
              "      background-color: #E8F0FE;\n",
              "      border: none;\n",
              "      border-radius: 50%;\n",
              "      cursor: pointer;\n",
              "      display: none;\n",
              "      fill: #1967D2;\n",
              "      height: 32px;\n",
              "      padding: 0 0 0 0;\n",
              "      width: 32px;\n",
              "    }\n",
              "\n",
              "    .colab-df-convert:hover {\n",
              "      background-color: #E2EBFA;\n",
              "      box-shadow: 0px 1px 2px rgba(60, 64, 67, 0.3), 0px 1px 3px 1px rgba(60, 64, 67, 0.15);\n",
              "      fill: #174EA6;\n",
              "    }\n",
              "\n",
              "    [theme=dark] .colab-df-convert {\n",
              "      background-color: #3B4455;\n",
              "      fill: #D2E3FC;\n",
              "    }\n",
              "\n",
              "    [theme=dark] .colab-df-convert:hover {\n",
              "      background-color: #434B5C;\n",
              "      box-shadow: 0px 1px 3px 1px rgba(0, 0, 0, 0.15);\n",
              "      filter: drop-shadow(0px 1px 2px rgba(0, 0, 0, 0.3));\n",
              "      fill: #FFFFFF;\n",
              "    }\n",
              "  </style>\n",
              "\n",
              "      <script>\n",
              "        const buttonEl =\n",
              "          document.querySelector('#df-fd9c2a55-eb76-4ac6-a253-c871332f752f button.colab-df-convert');\n",
              "        buttonEl.style.display =\n",
              "          google.colab.kernel.accessAllowed ? 'block' : 'none';\n",
              "\n",
              "        async function convertToInteractive(key) {\n",
              "          const element = document.querySelector('#df-fd9c2a55-eb76-4ac6-a253-c871332f752f');\n",
              "          const dataTable =\n",
              "            await google.colab.kernel.invokeFunction('convertToInteractive',\n",
              "                                                     [key], {});\n",
              "          if (!dataTable) return;\n",
              "\n",
              "          const docLinkHtml = 'Like what you see? Visit the ' +\n",
              "            '<a target=\"_blank\" href=https://colab.research.google.com/notebooks/data_table.ipynb>data table notebook</a>'\n",
              "            + ' to learn more about interactive tables.';\n",
              "          element.innerHTML = '';\n",
              "          dataTable['output_type'] = 'display_data';\n",
              "          await google.colab.output.renderOutput(dataTable, element);\n",
              "          const docLink = document.createElement('div');\n",
              "          docLink.innerHTML = docLinkHtml;\n",
              "          element.appendChild(docLink);\n",
              "        }\n",
              "      </script>\n",
              "    </div>\n",
              "  </div>\n",
              "  "
            ]
          },
          "metadata": {},
          "execution_count": 67
        }
      ]
    },
    {
      "cell_type": "code",
      "source": [
        "df[df['size']=='Площадьземли:1сот']"
      ],
      "metadata": {
        "id": "zJmuxzE2Ws3S",
        "outputId": "8ae43496-c3ca-4ef7-a42a-c8f66374316b",
        "colab": {
          "base_uri": "https://localhost:8080/",
          "height": 80
        }
      },
      "execution_count": 69,
      "outputs": [
        {
          "output_type": "execute_result",
          "data": {
            "text/plain": [
              "                                      location     district  rooms  \\\n",
              "5347  город Ташкент, Яшнободский район, Дархон  Яшнободский      4   \n",
              "\n",
              "                   size  level  max_levels   price  \n",
              "5347  Площадьземли:1сот      3           5  150000  "
            ],
            "text/html": [
              "\n",
              "  <div id=\"df-f93b8161-ba81-42af-a556-8e272d828392\">\n",
              "    <div class=\"colab-df-container\">\n",
              "      <div>\n",
              "<style scoped>\n",
              "    .dataframe tbody tr th:only-of-type {\n",
              "        vertical-align: middle;\n",
              "    }\n",
              "\n",
              "    .dataframe tbody tr th {\n",
              "        vertical-align: top;\n",
              "    }\n",
              "\n",
              "    .dataframe thead th {\n",
              "        text-align: right;\n",
              "    }\n",
              "</style>\n",
              "<table border=\"1\" class=\"dataframe\">\n",
              "  <thead>\n",
              "    <tr style=\"text-align: right;\">\n",
              "      <th></th>\n",
              "      <th>location</th>\n",
              "      <th>district</th>\n",
              "      <th>rooms</th>\n",
              "      <th>size</th>\n",
              "      <th>level</th>\n",
              "      <th>max_levels</th>\n",
              "      <th>price</th>\n",
              "    </tr>\n",
              "  </thead>\n",
              "  <tbody>\n",
              "    <tr>\n",
              "      <th>5347</th>\n",
              "      <td>город Ташкент, Яшнободский район, Дархон</td>\n",
              "      <td>Яшнободский</td>\n",
              "      <td>4</td>\n",
              "      <td>Площадьземли:1сот</td>\n",
              "      <td>3</td>\n",
              "      <td>5</td>\n",
              "      <td>150000</td>\n",
              "    </tr>\n",
              "  </tbody>\n",
              "</table>\n",
              "</div>\n",
              "      <button class=\"colab-df-convert\" onclick=\"convertToInteractive('df-f93b8161-ba81-42af-a556-8e272d828392')\"\n",
              "              title=\"Convert this dataframe to an interactive table.\"\n",
              "              style=\"display:none;\">\n",
              "        \n",
              "  <svg xmlns=\"http://www.w3.org/2000/svg\" height=\"24px\"viewBox=\"0 0 24 24\"\n",
              "       width=\"24px\">\n",
              "    <path d=\"M0 0h24v24H0V0z\" fill=\"none\"/>\n",
              "    <path d=\"M18.56 5.44l.94 2.06.94-2.06 2.06-.94-2.06-.94-.94-2.06-.94 2.06-2.06.94zm-11 1L8.5 8.5l.94-2.06 2.06-.94-2.06-.94L8.5 2.5l-.94 2.06-2.06.94zm10 10l.94 2.06.94-2.06 2.06-.94-2.06-.94-.94-2.06-.94 2.06-2.06.94z\"/><path d=\"M17.41 7.96l-1.37-1.37c-.4-.4-.92-.59-1.43-.59-.52 0-1.04.2-1.43.59L10.3 9.45l-7.72 7.72c-.78.78-.78 2.05 0 2.83L4 21.41c.39.39.9.59 1.41.59.51 0 1.02-.2 1.41-.59l7.78-7.78 2.81-2.81c.8-.78.8-2.07 0-2.86zM5.41 20L4 18.59l7.72-7.72 1.47 1.35L5.41 20z\"/>\n",
              "  </svg>\n",
              "      </button>\n",
              "      \n",
              "  <style>\n",
              "    .colab-df-container {\n",
              "      display:flex;\n",
              "      flex-wrap:wrap;\n",
              "      gap: 12px;\n",
              "    }\n",
              "\n",
              "    .colab-df-convert {\n",
              "      background-color: #E8F0FE;\n",
              "      border: none;\n",
              "      border-radius: 50%;\n",
              "      cursor: pointer;\n",
              "      display: none;\n",
              "      fill: #1967D2;\n",
              "      height: 32px;\n",
              "      padding: 0 0 0 0;\n",
              "      width: 32px;\n",
              "    }\n",
              "\n",
              "    .colab-df-convert:hover {\n",
              "      background-color: #E2EBFA;\n",
              "      box-shadow: 0px 1px 2px rgba(60, 64, 67, 0.3), 0px 1px 3px 1px rgba(60, 64, 67, 0.15);\n",
              "      fill: #174EA6;\n",
              "    }\n",
              "\n",
              "    [theme=dark] .colab-df-convert {\n",
              "      background-color: #3B4455;\n",
              "      fill: #D2E3FC;\n",
              "    }\n",
              "\n",
              "    [theme=dark] .colab-df-convert:hover {\n",
              "      background-color: #434B5C;\n",
              "      box-shadow: 0px 1px 3px 1px rgba(0, 0, 0, 0.15);\n",
              "      filter: drop-shadow(0px 1px 2px rgba(0, 0, 0, 0.3));\n",
              "      fill: #FFFFFF;\n",
              "    }\n",
              "  </style>\n",
              "\n",
              "      <script>\n",
              "        const buttonEl =\n",
              "          document.querySelector('#df-f93b8161-ba81-42af-a556-8e272d828392 button.colab-df-convert');\n",
              "        buttonEl.style.display =\n",
              "          google.colab.kernel.accessAllowed ? 'block' : 'none';\n",
              "\n",
              "        async function convertToInteractive(key) {\n",
              "          const element = document.querySelector('#df-f93b8161-ba81-42af-a556-8e272d828392');\n",
              "          const dataTable =\n",
              "            await google.colab.kernel.invokeFunction('convertToInteractive',\n",
              "                                                     [key], {});\n",
              "          if (!dataTable) return;\n",
              "\n",
              "          const docLinkHtml = 'Like what you see? Visit the ' +\n",
              "            '<a target=\"_blank\" href=https://colab.research.google.com/notebooks/data_table.ipynb>data table notebook</a>'\n",
              "            + ' to learn more about interactive tables.';\n",
              "          element.innerHTML = '';\n",
              "          dataTable['output_type'] = 'display_data';\n",
              "          await google.colab.output.renderOutput(dataTable, element);\n",
              "          const docLink = document.createElement('div');\n",
              "          docLink.innerHTML = docLinkHtml;\n",
              "          element.appendChild(docLink);\n",
              "        }\n",
              "      </script>\n",
              "    </div>\n",
              "  </div>\n",
              "  "
            ]
          },
          "metadata": {},
          "execution_count": 69
        }
      ]
    },
    {
      "cell_type": "code",
      "source": [
        "df.iloc[5347,3] = 100"
      ],
      "metadata": {
        "id": "0eZw0ya3XeK6"
      },
      "execution_count": 70,
      "outputs": []
    },
    {
      "cell_type": "code",
      "source": [
        "df['size'] = df['size'].astype(float)"
      ],
      "metadata": {
        "id": "mXPRf3fzY8wh"
      },
      "execution_count": 71,
      "outputs": []
    },
    {
      "cell_type": "code",
      "source": [
        "df[df['price']=='Договорная']"
      ],
      "metadata": {
        "id": "CAgCSypeZPih",
        "outputId": "680a56a2-9282-4207-9a3b-5304eecaabab",
        "colab": {
          "base_uri": "https://localhost:8080/",
          "height": 423
        }
      },
      "execution_count": 73,
      "outputs": [
        {
          "output_type": "execute_result",
          "data": {
            "text/plain": [
              "                                               location           district  \\\n",
              "202        город Ташкент, Яккасарайский район, Баходыра      Яккасарайский   \n",
              "411        город Ташкент, Яккасарайский район, Баходыра      Яккасарайский   \n",
              "439   город Ташкент, Мирзо-Улугбекский район, улица ...  Мирзо-Улугбекский   \n",
              "460   город Ташкент, Чиланзарский район, Чиланзар 1-...       Чиланзарский   \n",
              "507   город Ташкент, Яшнободский район, 1-й проезд А...        Яшнободский   \n",
              "...                                                 ...                ...   \n",
              "7039  город Ташкент, Яшнободский район, Городок Авиа...        Яшнободский   \n",
              "7196     город Ташкент, Чиланзарский район, Чиланзар-16       Чиланзарский   \n",
              "7323  город Ташкент, Мирзо-Улугбекский район, жилой ...  Мирзо-Улугбекский   \n",
              "7403  город Ташкент, Учтепинский район, Чиланзар 14-...        Учтепинский   \n",
              "7404  город Ташкент, Учтепинский район, Чиланзар 14-...        Учтепинский   \n",
              "\n",
              "      rooms   size  level  max_levels       price  \n",
              "202       3  119.0      3           9  Договорная  \n",
              "411       4  160.0      4           9  Договорная  \n",
              "439       3  105.0      5           6  Договорная  \n",
              "460       3   90.0      6           8  Договорная  \n",
              "507       2   48.0      4           4  Договорная  \n",
              "...     ...    ...    ...         ...         ...  \n",
              "7039      1   38.7      3           8  Договорная  \n",
              "7196      2   51.0      3           4  Договорная  \n",
              "7323      6  208.0      1           7  Договорная  \n",
              "7403      2   35.0      2           9  Договорная  \n",
              "7404      2   35.0      2           9  Договорная  \n",
              "\n",
              "[99 rows x 7 columns]"
            ],
            "text/html": [
              "\n",
              "  <div id=\"df-d93547be-795f-45f3-9a2a-de910406a4ca\">\n",
              "    <div class=\"colab-df-container\">\n",
              "      <div>\n",
              "<style scoped>\n",
              "    .dataframe tbody tr th:only-of-type {\n",
              "        vertical-align: middle;\n",
              "    }\n",
              "\n",
              "    .dataframe tbody tr th {\n",
              "        vertical-align: top;\n",
              "    }\n",
              "\n",
              "    .dataframe thead th {\n",
              "        text-align: right;\n",
              "    }\n",
              "</style>\n",
              "<table border=\"1\" class=\"dataframe\">\n",
              "  <thead>\n",
              "    <tr style=\"text-align: right;\">\n",
              "      <th></th>\n",
              "      <th>location</th>\n",
              "      <th>district</th>\n",
              "      <th>rooms</th>\n",
              "      <th>size</th>\n",
              "      <th>level</th>\n",
              "      <th>max_levels</th>\n",
              "      <th>price</th>\n",
              "    </tr>\n",
              "  </thead>\n",
              "  <tbody>\n",
              "    <tr>\n",
              "      <th>202</th>\n",
              "      <td>город Ташкент, Яккасарайский район, Баходыра</td>\n",
              "      <td>Яккасарайский</td>\n",
              "      <td>3</td>\n",
              "      <td>119.0</td>\n",
              "      <td>3</td>\n",
              "      <td>9</td>\n",
              "      <td>Договорная</td>\n",
              "    </tr>\n",
              "    <tr>\n",
              "      <th>411</th>\n",
              "      <td>город Ташкент, Яккасарайский район, Баходыра</td>\n",
              "      <td>Яккасарайский</td>\n",
              "      <td>4</td>\n",
              "      <td>160.0</td>\n",
              "      <td>4</td>\n",
              "      <td>9</td>\n",
              "      <td>Договорная</td>\n",
              "    </tr>\n",
              "    <tr>\n",
              "      <th>439</th>\n",
              "      <td>город Ташкент, Мирзо-Улугбекский район, улица ...</td>\n",
              "      <td>Мирзо-Улугбекский</td>\n",
              "      <td>3</td>\n",
              "      <td>105.0</td>\n",
              "      <td>5</td>\n",
              "      <td>6</td>\n",
              "      <td>Договорная</td>\n",
              "    </tr>\n",
              "    <tr>\n",
              "      <th>460</th>\n",
              "      <td>город Ташкент, Чиланзарский район, Чиланзар 1-...</td>\n",
              "      <td>Чиланзарский</td>\n",
              "      <td>3</td>\n",
              "      <td>90.0</td>\n",
              "      <td>6</td>\n",
              "      <td>8</td>\n",
              "      <td>Договорная</td>\n",
              "    </tr>\n",
              "    <tr>\n",
              "      <th>507</th>\n",
              "      <td>город Ташкент, Яшнободский район, 1-й проезд А...</td>\n",
              "      <td>Яшнободский</td>\n",
              "      <td>2</td>\n",
              "      <td>48.0</td>\n",
              "      <td>4</td>\n",
              "      <td>4</td>\n",
              "      <td>Договорная</td>\n",
              "    </tr>\n",
              "    <tr>\n",
              "      <th>...</th>\n",
              "      <td>...</td>\n",
              "      <td>...</td>\n",
              "      <td>...</td>\n",
              "      <td>...</td>\n",
              "      <td>...</td>\n",
              "      <td>...</td>\n",
              "      <td>...</td>\n",
              "    </tr>\n",
              "    <tr>\n",
              "      <th>7039</th>\n",
              "      <td>город Ташкент, Яшнободский район, Городок Авиа...</td>\n",
              "      <td>Яшнободский</td>\n",
              "      <td>1</td>\n",
              "      <td>38.7</td>\n",
              "      <td>3</td>\n",
              "      <td>8</td>\n",
              "      <td>Договорная</td>\n",
              "    </tr>\n",
              "    <tr>\n",
              "      <th>7196</th>\n",
              "      <td>город Ташкент, Чиланзарский район, Чиланзар-16</td>\n",
              "      <td>Чиланзарский</td>\n",
              "      <td>2</td>\n",
              "      <td>51.0</td>\n",
              "      <td>3</td>\n",
              "      <td>4</td>\n",
              "      <td>Договорная</td>\n",
              "    </tr>\n",
              "    <tr>\n",
              "      <th>7323</th>\n",
              "      <td>город Ташкент, Мирзо-Улугбекский район, жилой ...</td>\n",
              "      <td>Мирзо-Улугбекский</td>\n",
              "      <td>6</td>\n",
              "      <td>208.0</td>\n",
              "      <td>1</td>\n",
              "      <td>7</td>\n",
              "      <td>Договорная</td>\n",
              "    </tr>\n",
              "    <tr>\n",
              "      <th>7403</th>\n",
              "      <td>город Ташкент, Учтепинский район, Чиланзар 14-...</td>\n",
              "      <td>Учтепинский</td>\n",
              "      <td>2</td>\n",
              "      <td>35.0</td>\n",
              "      <td>2</td>\n",
              "      <td>9</td>\n",
              "      <td>Договорная</td>\n",
              "    </tr>\n",
              "    <tr>\n",
              "      <th>7404</th>\n",
              "      <td>город Ташкент, Учтепинский район, Чиланзар 14-...</td>\n",
              "      <td>Учтепинский</td>\n",
              "      <td>2</td>\n",
              "      <td>35.0</td>\n",
              "      <td>2</td>\n",
              "      <td>9</td>\n",
              "      <td>Договорная</td>\n",
              "    </tr>\n",
              "  </tbody>\n",
              "</table>\n",
              "<p>99 rows × 7 columns</p>\n",
              "</div>\n",
              "      <button class=\"colab-df-convert\" onclick=\"convertToInteractive('df-d93547be-795f-45f3-9a2a-de910406a4ca')\"\n",
              "              title=\"Convert this dataframe to an interactive table.\"\n",
              "              style=\"display:none;\">\n",
              "        \n",
              "  <svg xmlns=\"http://www.w3.org/2000/svg\" height=\"24px\"viewBox=\"0 0 24 24\"\n",
              "       width=\"24px\">\n",
              "    <path d=\"M0 0h24v24H0V0z\" fill=\"none\"/>\n",
              "    <path d=\"M18.56 5.44l.94 2.06.94-2.06 2.06-.94-2.06-.94-.94-2.06-.94 2.06-2.06.94zm-11 1L8.5 8.5l.94-2.06 2.06-.94-2.06-.94L8.5 2.5l-.94 2.06-2.06.94zm10 10l.94 2.06.94-2.06 2.06-.94-2.06-.94-.94-2.06-.94 2.06-2.06.94z\"/><path d=\"M17.41 7.96l-1.37-1.37c-.4-.4-.92-.59-1.43-.59-.52 0-1.04.2-1.43.59L10.3 9.45l-7.72 7.72c-.78.78-.78 2.05 0 2.83L4 21.41c.39.39.9.59 1.41.59.51 0 1.02-.2 1.41-.59l7.78-7.78 2.81-2.81c.8-.78.8-2.07 0-2.86zM5.41 20L4 18.59l7.72-7.72 1.47 1.35L5.41 20z\"/>\n",
              "  </svg>\n",
              "      </button>\n",
              "      \n",
              "  <style>\n",
              "    .colab-df-container {\n",
              "      display:flex;\n",
              "      flex-wrap:wrap;\n",
              "      gap: 12px;\n",
              "    }\n",
              "\n",
              "    .colab-df-convert {\n",
              "      background-color: #E8F0FE;\n",
              "      border: none;\n",
              "      border-radius: 50%;\n",
              "      cursor: pointer;\n",
              "      display: none;\n",
              "      fill: #1967D2;\n",
              "      height: 32px;\n",
              "      padding: 0 0 0 0;\n",
              "      width: 32px;\n",
              "    }\n",
              "\n",
              "    .colab-df-convert:hover {\n",
              "      background-color: #E2EBFA;\n",
              "      box-shadow: 0px 1px 2px rgba(60, 64, 67, 0.3), 0px 1px 3px 1px rgba(60, 64, 67, 0.15);\n",
              "      fill: #174EA6;\n",
              "    }\n",
              "\n",
              "    [theme=dark] .colab-df-convert {\n",
              "      background-color: #3B4455;\n",
              "      fill: #D2E3FC;\n",
              "    }\n",
              "\n",
              "    [theme=dark] .colab-df-convert:hover {\n",
              "      background-color: #434B5C;\n",
              "      box-shadow: 0px 1px 3px 1px rgba(0, 0, 0, 0.15);\n",
              "      filter: drop-shadow(0px 1px 2px rgba(0, 0, 0, 0.3));\n",
              "      fill: #FFFFFF;\n",
              "    }\n",
              "  </style>\n",
              "\n",
              "      <script>\n",
              "        const buttonEl =\n",
              "          document.querySelector('#df-d93547be-795f-45f3-9a2a-de910406a4ca button.colab-df-convert');\n",
              "        buttonEl.style.display =\n",
              "          google.colab.kernel.accessAllowed ? 'block' : 'none';\n",
              "\n",
              "        async function convertToInteractive(key) {\n",
              "          const element = document.querySelector('#df-d93547be-795f-45f3-9a2a-de910406a4ca');\n",
              "          const dataTable =\n",
              "            await google.colab.kernel.invokeFunction('convertToInteractive',\n",
              "                                                     [key], {});\n",
              "          if (!dataTable) return;\n",
              "\n",
              "          const docLinkHtml = 'Like what you see? Visit the ' +\n",
              "            '<a target=\"_blank\" href=https://colab.research.google.com/notebooks/data_table.ipynb>data table notebook</a>'\n",
              "            + ' to learn more about interactive tables.';\n",
              "          element.innerHTML = '';\n",
              "          dataTable['output_type'] = 'display_data';\n",
              "          await google.colab.output.renderOutput(dataTable, element);\n",
              "          const docLink = document.createElement('div');\n",
              "          docLink.innerHTML = docLinkHtml;\n",
              "          element.appendChild(docLink);\n",
              "        }\n",
              "      </script>\n",
              "    </div>\n",
              "  </div>\n",
              "  "
            ]
          },
          "metadata": {},
          "execution_count": 73
        }
      ]
    },
    {
      "cell_type": "code",
      "source": [
        "df[df['price']=='Договорная']['size'].mean()"
      ],
      "metadata": {
        "id": "WQtJDhjlZb1p",
        "outputId": "70c17dc5-c262-403f-b6df-271f7fe88877",
        "colab": {
          "base_uri": "https://localhost:8080/"
        }
      },
      "execution_count": 74,
      "outputs": [
        {
          "output_type": "execute_result",
          "data": {
            "text/plain": [
              "93.05858585858586"
            ]
          },
          "metadata": {},
          "execution_count": 74
        }
      ]
    },
    {
      "cell_type": "code",
      "source": [
        "df[df['price']=='Договорная']['rooms'].mean()"
      ],
      "metadata": {
        "id": "pBtboOM8bH6p",
        "outputId": "61c5b3ff-31f5-4cb8-b0d7-bb6acf690d04",
        "colab": {
          "base_uri": "https://localhost:8080/"
        }
      },
      "execution_count": 75,
      "outputs": [
        {
          "output_type": "execute_result",
          "data": {
            "text/plain": [
              "2.878787878787879"
            ]
          },
          "metadata": {},
          "execution_count": 75
        }
      ]
    },
    {
      "cell_type": "code",
      "source": [
        "df[df['price']=='Договорная']['level'].mean()"
      ],
      "metadata": {
        "id": "2S9GyYiCbfBB",
        "outputId": "470c7770-7201-4e08-882f-8d9ca15c61cc",
        "colab": {
          "base_uri": "https://localhost:8080/"
        }
      },
      "execution_count": 76,
      "outputs": [
        {
          "output_type": "execute_result",
          "data": {
            "text/plain": [
              "4.121212121212121"
            ]
          },
          "metadata": {},
          "execution_count": 76
        }
      ]
    },
    {
      "cell_type": "code",
      "source": [
        "df[(df['size']==93) & (df['rooms']==3) & (df['level']==4)]"
      ],
      "metadata": {
        "id": "jXaJM0yGbpsY",
        "outputId": "1732c95c-bc4d-4500-df9d-a9813d6b83e7",
        "colab": {
          "base_uri": "https://localhost:8080/",
          "height": 206
        }
      },
      "execution_count": 77,
      "outputs": [
        {
          "output_type": "execute_result",
          "data": {
            "text/plain": [
              "                                               location       district  rooms  \\\n",
              "723     город Ташкент, Яшнободский район, Рисовый базар    Яшнободский      3   \n",
              "1399  город Ташкент, Чиланзарский район, Чиланзар кв...   Чиланзарский      3   \n",
              "5241  город Ташкент, Чиланзарский район, Чиланзар кв...   Чиланзарский      3   \n",
              "5706    город Ташкент, Яккасарайский район, Конституция  Яккасарайский      3   \n",
              "7124  город Ташкент, Чиланзарский район, Чиланзар кв...   Чиланзарский      3   \n",
              "\n",
              "      size  level  max_levels  price  \n",
              "723   93.0      4           7  46500  \n",
              "1399  93.0      4           5  80000  \n",
              "5241  93.0      4           5  80000  \n",
              "5706  93.0      4           4  65000  \n",
              "7124  93.0      4           4  73500  "
            ],
            "text/html": [
              "\n",
              "  <div id=\"df-e054113b-b3af-463f-9cbc-d40ae67e1fd1\">\n",
              "    <div class=\"colab-df-container\">\n",
              "      <div>\n",
              "<style scoped>\n",
              "    .dataframe tbody tr th:only-of-type {\n",
              "        vertical-align: middle;\n",
              "    }\n",
              "\n",
              "    .dataframe tbody tr th {\n",
              "        vertical-align: top;\n",
              "    }\n",
              "\n",
              "    .dataframe thead th {\n",
              "        text-align: right;\n",
              "    }\n",
              "</style>\n",
              "<table border=\"1\" class=\"dataframe\">\n",
              "  <thead>\n",
              "    <tr style=\"text-align: right;\">\n",
              "      <th></th>\n",
              "      <th>location</th>\n",
              "      <th>district</th>\n",
              "      <th>rooms</th>\n",
              "      <th>size</th>\n",
              "      <th>level</th>\n",
              "      <th>max_levels</th>\n",
              "      <th>price</th>\n",
              "    </tr>\n",
              "  </thead>\n",
              "  <tbody>\n",
              "    <tr>\n",
              "      <th>723</th>\n",
              "      <td>город Ташкент, Яшнободский район, Рисовый базар</td>\n",
              "      <td>Яшнободский</td>\n",
              "      <td>3</td>\n",
              "      <td>93.0</td>\n",
              "      <td>4</td>\n",
              "      <td>7</td>\n",
              "      <td>46500</td>\n",
              "    </tr>\n",
              "    <tr>\n",
              "      <th>1399</th>\n",
              "      <td>город Ташкент, Чиланзарский район, Чиланзар кв...</td>\n",
              "      <td>Чиланзарский</td>\n",
              "      <td>3</td>\n",
              "      <td>93.0</td>\n",
              "      <td>4</td>\n",
              "      <td>5</td>\n",
              "      <td>80000</td>\n",
              "    </tr>\n",
              "    <tr>\n",
              "      <th>5241</th>\n",
              "      <td>город Ташкент, Чиланзарский район, Чиланзар кв...</td>\n",
              "      <td>Чиланзарский</td>\n",
              "      <td>3</td>\n",
              "      <td>93.0</td>\n",
              "      <td>4</td>\n",
              "      <td>5</td>\n",
              "      <td>80000</td>\n",
              "    </tr>\n",
              "    <tr>\n",
              "      <th>5706</th>\n",
              "      <td>город Ташкент, Яккасарайский район, Конституция</td>\n",
              "      <td>Яккасарайский</td>\n",
              "      <td>3</td>\n",
              "      <td>93.0</td>\n",
              "      <td>4</td>\n",
              "      <td>4</td>\n",
              "      <td>65000</td>\n",
              "    </tr>\n",
              "    <tr>\n",
              "      <th>7124</th>\n",
              "      <td>город Ташкент, Чиланзарский район, Чиланзар кв...</td>\n",
              "      <td>Чиланзарский</td>\n",
              "      <td>3</td>\n",
              "      <td>93.0</td>\n",
              "      <td>4</td>\n",
              "      <td>4</td>\n",
              "      <td>73500</td>\n",
              "    </tr>\n",
              "  </tbody>\n",
              "</table>\n",
              "</div>\n",
              "      <button class=\"colab-df-convert\" onclick=\"convertToInteractive('df-e054113b-b3af-463f-9cbc-d40ae67e1fd1')\"\n",
              "              title=\"Convert this dataframe to an interactive table.\"\n",
              "              style=\"display:none;\">\n",
              "        \n",
              "  <svg xmlns=\"http://www.w3.org/2000/svg\" height=\"24px\"viewBox=\"0 0 24 24\"\n",
              "       width=\"24px\">\n",
              "    <path d=\"M0 0h24v24H0V0z\" fill=\"none\"/>\n",
              "    <path d=\"M18.56 5.44l.94 2.06.94-2.06 2.06-.94-2.06-.94-.94-2.06-.94 2.06-2.06.94zm-11 1L8.5 8.5l.94-2.06 2.06-.94-2.06-.94L8.5 2.5l-.94 2.06-2.06.94zm10 10l.94 2.06.94-2.06 2.06-.94-2.06-.94-.94-2.06-.94 2.06-2.06.94z\"/><path d=\"M17.41 7.96l-1.37-1.37c-.4-.4-.92-.59-1.43-.59-.52 0-1.04.2-1.43.59L10.3 9.45l-7.72 7.72c-.78.78-.78 2.05 0 2.83L4 21.41c.39.39.9.59 1.41.59.51 0 1.02-.2 1.41-.59l7.78-7.78 2.81-2.81c.8-.78.8-2.07 0-2.86zM5.41 20L4 18.59l7.72-7.72 1.47 1.35L5.41 20z\"/>\n",
              "  </svg>\n",
              "      </button>\n",
              "      \n",
              "  <style>\n",
              "    .colab-df-container {\n",
              "      display:flex;\n",
              "      flex-wrap:wrap;\n",
              "      gap: 12px;\n",
              "    }\n",
              "\n",
              "    .colab-df-convert {\n",
              "      background-color: #E8F0FE;\n",
              "      border: none;\n",
              "      border-radius: 50%;\n",
              "      cursor: pointer;\n",
              "      display: none;\n",
              "      fill: #1967D2;\n",
              "      height: 32px;\n",
              "      padding: 0 0 0 0;\n",
              "      width: 32px;\n",
              "    }\n",
              "\n",
              "    .colab-df-convert:hover {\n",
              "      background-color: #E2EBFA;\n",
              "      box-shadow: 0px 1px 2px rgba(60, 64, 67, 0.3), 0px 1px 3px 1px rgba(60, 64, 67, 0.15);\n",
              "      fill: #174EA6;\n",
              "    }\n",
              "\n",
              "    [theme=dark] .colab-df-convert {\n",
              "      background-color: #3B4455;\n",
              "      fill: #D2E3FC;\n",
              "    }\n",
              "\n",
              "    [theme=dark] .colab-df-convert:hover {\n",
              "      background-color: #434B5C;\n",
              "      box-shadow: 0px 1px 3px 1px rgba(0, 0, 0, 0.15);\n",
              "      filter: drop-shadow(0px 1px 2px rgba(0, 0, 0, 0.3));\n",
              "      fill: #FFFFFF;\n",
              "    }\n",
              "  </style>\n",
              "\n",
              "      <script>\n",
              "        const buttonEl =\n",
              "          document.querySelector('#df-e054113b-b3af-463f-9cbc-d40ae67e1fd1 button.colab-df-convert');\n",
              "        buttonEl.style.display =\n",
              "          google.colab.kernel.accessAllowed ? 'block' : 'none';\n",
              "\n",
              "        async function convertToInteractive(key) {\n",
              "          const element = document.querySelector('#df-e054113b-b3af-463f-9cbc-d40ae67e1fd1');\n",
              "          const dataTable =\n",
              "            await google.colab.kernel.invokeFunction('convertToInteractive',\n",
              "                                                     [key], {});\n",
              "          if (!dataTable) return;\n",
              "\n",
              "          const docLinkHtml = 'Like what you see? Visit the ' +\n",
              "            '<a target=\"_blank\" href=https://colab.research.google.com/notebooks/data_table.ipynb>data table notebook</a>'\n",
              "            + ' to learn more about interactive tables.';\n",
              "          element.innerHTML = '';\n",
              "          dataTable['output_type'] = 'display_data';\n",
              "          await google.colab.output.renderOutput(dataTable, element);\n",
              "          const docLink = document.createElement('div');\n",
              "          docLink.innerHTML = docLinkHtml;\n",
              "          element.appendChild(docLink);\n",
              "        }\n",
              "      </script>\n",
              "    </div>\n",
              "  </div>\n",
              "  "
            ]
          },
          "metadata": {},
          "execution_count": 77
        }
      ]
    },
    {
      "cell_type": "code",
      "source": [
        "(46500+160000+65000+73500)/5"
      ],
      "metadata": {
        "id": "S5uoMlbbcK6J",
        "outputId": "a3a43b77-89d9-42b7-e7d6-eeab5e12d10b",
        "colab": {
          "base_uri": "https://localhost:8080/"
        }
      },
      "execution_count": 37,
      "outputs": [
        {
          "output_type": "execute_result",
          "data": {
            "text/plain": [
              "69000.0"
            ]
          },
          "metadata": {},
          "execution_count": 37
        }
      ]
    },
    {
      "cell_type": "code",
      "source": [
        "df.replace('Договорная',69000,inplace=True)"
      ],
      "metadata": {
        "id": "VS5F-Nugc-dp"
      },
      "execution_count": 78,
      "outputs": []
    },
    {
      "cell_type": "code",
      "source": [
        "df['price'] = df['price'].astype(int)"
      ],
      "metadata": {
        "id": "wfFmLW27dTPS"
      },
      "execution_count": 79,
      "outputs": []
    },
    {
      "cell_type": "code",
      "source": [
        "df.describe()"
      ],
      "metadata": {
        "id": "89RpYhFkdZM5",
        "outputId": "1f5fc42e-c6bd-478c-e7f7-40dc09532755",
        "colab": {
          "base_uri": "https://localhost:8080/",
          "height": 300
        }
      },
      "execution_count": 80,
      "outputs": [
        {
          "output_type": "execute_result",
          "data": {
            "text/plain": [
              "             rooms          size        level   max_levels         price\n",
              "count  7565.000000   7565.000000  7565.000000  7565.000000  7.565000e+03\n",
              "mean      2.625644    113.267236     3.699273     6.038202  7.130366e+04\n",
              "std       1.085201   1491.213517     2.237275     2.613271  6.363182e+05\n",
              "min       1.000000      1.000000     1.000000     1.000000  2.000000e+00\n",
              "25%       2.000000     50.000000     2.000000     4.000000  3.500000e+04\n",
              "50%       3.000000     66.000000     3.000000     5.000000  4.700000e+04\n",
              "75%       3.000000     86.000000     5.000000     9.000000  6.800000e+04\n",
              "max      10.000000  70000.000000    19.000000    25.000000  5.200000e+07"
            ],
            "text/html": [
              "\n",
              "  <div id=\"df-af693b5a-d943-4912-816c-3d9409d62f4b\">\n",
              "    <div class=\"colab-df-container\">\n",
              "      <div>\n",
              "<style scoped>\n",
              "    .dataframe tbody tr th:only-of-type {\n",
              "        vertical-align: middle;\n",
              "    }\n",
              "\n",
              "    .dataframe tbody tr th {\n",
              "        vertical-align: top;\n",
              "    }\n",
              "\n",
              "    .dataframe thead th {\n",
              "        text-align: right;\n",
              "    }\n",
              "</style>\n",
              "<table border=\"1\" class=\"dataframe\">\n",
              "  <thead>\n",
              "    <tr style=\"text-align: right;\">\n",
              "      <th></th>\n",
              "      <th>rooms</th>\n",
              "      <th>size</th>\n",
              "      <th>level</th>\n",
              "      <th>max_levels</th>\n",
              "      <th>price</th>\n",
              "    </tr>\n",
              "  </thead>\n",
              "  <tbody>\n",
              "    <tr>\n",
              "      <th>count</th>\n",
              "      <td>7565.000000</td>\n",
              "      <td>7565.000000</td>\n",
              "      <td>7565.000000</td>\n",
              "      <td>7565.000000</td>\n",
              "      <td>7.565000e+03</td>\n",
              "    </tr>\n",
              "    <tr>\n",
              "      <th>mean</th>\n",
              "      <td>2.625644</td>\n",
              "      <td>113.267236</td>\n",
              "      <td>3.699273</td>\n",
              "      <td>6.038202</td>\n",
              "      <td>7.130366e+04</td>\n",
              "    </tr>\n",
              "    <tr>\n",
              "      <th>std</th>\n",
              "      <td>1.085201</td>\n",
              "      <td>1491.213517</td>\n",
              "      <td>2.237275</td>\n",
              "      <td>2.613271</td>\n",
              "      <td>6.363182e+05</td>\n",
              "    </tr>\n",
              "    <tr>\n",
              "      <th>min</th>\n",
              "      <td>1.000000</td>\n",
              "      <td>1.000000</td>\n",
              "      <td>1.000000</td>\n",
              "      <td>1.000000</td>\n",
              "      <td>2.000000e+00</td>\n",
              "    </tr>\n",
              "    <tr>\n",
              "      <th>25%</th>\n",
              "      <td>2.000000</td>\n",
              "      <td>50.000000</td>\n",
              "      <td>2.000000</td>\n",
              "      <td>4.000000</td>\n",
              "      <td>3.500000e+04</td>\n",
              "    </tr>\n",
              "    <tr>\n",
              "      <th>50%</th>\n",
              "      <td>3.000000</td>\n",
              "      <td>66.000000</td>\n",
              "      <td>3.000000</td>\n",
              "      <td>5.000000</td>\n",
              "      <td>4.700000e+04</td>\n",
              "    </tr>\n",
              "    <tr>\n",
              "      <th>75%</th>\n",
              "      <td>3.000000</td>\n",
              "      <td>86.000000</td>\n",
              "      <td>5.000000</td>\n",
              "      <td>9.000000</td>\n",
              "      <td>6.800000e+04</td>\n",
              "    </tr>\n",
              "    <tr>\n",
              "      <th>max</th>\n",
              "      <td>10.000000</td>\n",
              "      <td>70000.000000</td>\n",
              "      <td>19.000000</td>\n",
              "      <td>25.000000</td>\n",
              "      <td>5.200000e+07</td>\n",
              "    </tr>\n",
              "  </tbody>\n",
              "</table>\n",
              "</div>\n",
              "      <button class=\"colab-df-convert\" onclick=\"convertToInteractive('df-af693b5a-d943-4912-816c-3d9409d62f4b')\"\n",
              "              title=\"Convert this dataframe to an interactive table.\"\n",
              "              style=\"display:none;\">\n",
              "        \n",
              "  <svg xmlns=\"http://www.w3.org/2000/svg\" height=\"24px\"viewBox=\"0 0 24 24\"\n",
              "       width=\"24px\">\n",
              "    <path d=\"M0 0h24v24H0V0z\" fill=\"none\"/>\n",
              "    <path d=\"M18.56 5.44l.94 2.06.94-2.06 2.06-.94-2.06-.94-.94-2.06-.94 2.06-2.06.94zm-11 1L8.5 8.5l.94-2.06 2.06-.94-2.06-.94L8.5 2.5l-.94 2.06-2.06.94zm10 10l.94 2.06.94-2.06 2.06-.94-2.06-.94-.94-2.06-.94 2.06-2.06.94z\"/><path d=\"M17.41 7.96l-1.37-1.37c-.4-.4-.92-.59-1.43-.59-.52 0-1.04.2-1.43.59L10.3 9.45l-7.72 7.72c-.78.78-.78 2.05 0 2.83L4 21.41c.39.39.9.59 1.41.59.51 0 1.02-.2 1.41-.59l7.78-7.78 2.81-2.81c.8-.78.8-2.07 0-2.86zM5.41 20L4 18.59l7.72-7.72 1.47 1.35L5.41 20z\"/>\n",
              "  </svg>\n",
              "      </button>\n",
              "      \n",
              "  <style>\n",
              "    .colab-df-container {\n",
              "      display:flex;\n",
              "      flex-wrap:wrap;\n",
              "      gap: 12px;\n",
              "    }\n",
              "\n",
              "    .colab-df-convert {\n",
              "      background-color: #E8F0FE;\n",
              "      border: none;\n",
              "      border-radius: 50%;\n",
              "      cursor: pointer;\n",
              "      display: none;\n",
              "      fill: #1967D2;\n",
              "      height: 32px;\n",
              "      padding: 0 0 0 0;\n",
              "      width: 32px;\n",
              "    }\n",
              "\n",
              "    .colab-df-convert:hover {\n",
              "      background-color: #E2EBFA;\n",
              "      box-shadow: 0px 1px 2px rgba(60, 64, 67, 0.3), 0px 1px 3px 1px rgba(60, 64, 67, 0.15);\n",
              "      fill: #174EA6;\n",
              "    }\n",
              "\n",
              "    [theme=dark] .colab-df-convert {\n",
              "      background-color: #3B4455;\n",
              "      fill: #D2E3FC;\n",
              "    }\n",
              "\n",
              "    [theme=dark] .colab-df-convert:hover {\n",
              "      background-color: #434B5C;\n",
              "      box-shadow: 0px 1px 3px 1px rgba(0, 0, 0, 0.15);\n",
              "      filter: drop-shadow(0px 1px 2px rgba(0, 0, 0, 0.3));\n",
              "      fill: #FFFFFF;\n",
              "    }\n",
              "  </style>\n",
              "\n",
              "      <script>\n",
              "        const buttonEl =\n",
              "          document.querySelector('#df-af693b5a-d943-4912-816c-3d9409d62f4b button.colab-df-convert');\n",
              "        buttonEl.style.display =\n",
              "          google.colab.kernel.accessAllowed ? 'block' : 'none';\n",
              "\n",
              "        async function convertToInteractive(key) {\n",
              "          const element = document.querySelector('#df-af693b5a-d943-4912-816c-3d9409d62f4b');\n",
              "          const dataTable =\n",
              "            await google.colab.kernel.invokeFunction('convertToInteractive',\n",
              "                                                     [key], {});\n",
              "          if (!dataTable) return;\n",
              "\n",
              "          const docLinkHtml = 'Like what you see? Visit the ' +\n",
              "            '<a target=\"_blank\" href=https://colab.research.google.com/notebooks/data_table.ipynb>data table notebook</a>'\n",
              "            + ' to learn more about interactive tables.';\n",
              "          element.innerHTML = '';\n",
              "          dataTable['output_type'] = 'display_data';\n",
              "          await google.colab.output.renderOutput(dataTable, element);\n",
              "          const docLink = document.createElement('div');\n",
              "          docLink.innerHTML = docLinkHtml;\n",
              "          element.appendChild(docLink);\n",
              "        }\n",
              "      </script>\n",
              "    </div>\n",
              "  </div>\n",
              "  "
            ]
          },
          "metadata": {},
          "execution_count": 80
        }
      ]
    },
    {
      "cell_type": "code",
      "source": [
        "%matplotlib inline\n",
        "df.hist(bins = 50, figsize=(20,15))\n",
        "plt.show()"
      ],
      "metadata": {
        "id": "JTy0Nohpdb84",
        "outputId": "576c8001-d8bc-4610-a9a5-7fd8c04a8360",
        "colab": {
          "base_uri": "https://localhost:8080/",
          "height": 892
        }
      },
      "execution_count": 81,
      "outputs": [
        {
          "output_type": "display_data",
          "data": {
            "text/plain": [
              "<Figure size 1440x1080 with 6 Axes>"
            ],
            "image/png": "[encoded data removed]"
          },
          "metadata": {
            "needs_background": "light"
          }
        }
      ]
    },
    {
      "cell_type": "code",
      "source": [
        "df1 = df[df['size']<300]\n",
        "df1 = df[df['price']<1_000_000]"
      ],
      "metadata": {
        "id": "qMRa_5MZd3SJ"
      },
      "execution_count": 86,
      "outputs": []
    },
    {
      "cell_type": "code",
      "source": [
        "df1.shape"
      ],
      "metadata": {
        "id": "0yWKTSOffjsa",
        "outputId": "a1257488-0409-45b8-a350-cf6cd46e6557",
        "colab": {
          "base_uri": "https://localhost:8080/"
        }
      },
      "execution_count": 87,
      "outputs": [
        {
          "output_type": "execute_result",
          "data": {
            "text/plain": [
              "(7556, 7)"
            ]
          },
          "metadata": {},
          "execution_count": 87
        }
      ]
    },
    {
      "cell_type": "code",
      "source": [
        "df1.hist(bins = 50, figsize=(20,15))\n",
        "plt.show()"
      ],
      "metadata": {
        "id": "9xAjitbeflmR",
        "outputId": "db75c9f8-feb2-456e-defd-14401f6bb7a4",
        "colab": {
          "base_uri": "https://localhost:8080/",
          "height": 879
        }
      },
      "execution_count": 88,
      "outputs": [
        {
          "output_type": "display_data",
          "data": {
            "text/plain": [
              "<Figure size 1440x1080 with 6 Axes>"
            ],
            "image/png": "[encoded data removed]"
          },
          "metadata": {
            "needs_background": "light"
          }
        }
      ]
    },
    {
      "cell_type": "code",
      "source": [
        "df.corrwith(df['price']).sort_values(ascending=False)"
      ],
      "metadata": {
        "id": "LqhINRD5gCyJ",
        "outputId": "1511744c-0f08-452e-d980-2932c1d2853c",
        "colab": {
          "base_uri": "https://localhost:8080/"
        }
      },
      "execution_count": 89,
      "outputs": [
        {
          "output_type": "execute_result",
          "data": {
            "text/plain": [
              "price         1.000000\n",
              "rooms         0.055693\n",
              "max_levels    0.011048\n",
              "size          0.001107\n",
              "level        -0.003439\n",
              "dtype: float64"
            ]
          },
          "metadata": {},
          "execution_count": 89
        }
      ]
    },
    {
      "cell_type": "code",
      "source": [
        "df.isnull().sum()"
      ],
      "metadata": {
        "id": "RyHYXk_7lC0A",
        "outputId": "9c68fe59-2b6e-487f-eca4-f9e77b5de0fa",
        "colab": {
          "base_uri": "https://localhost:8080/"
        }
      },
      "execution_count": 91,
      "outputs": [
        {
          "output_type": "execute_result",
          "data": {
            "text/plain": [
              "location      0\n",
              "district      0\n",
              "rooms         0\n",
              "size          0\n",
              "level         0\n",
              "max_levels    0\n",
              "price         0\n",
              "dtype: int64"
            ]
          },
          "metadata": {},
          "execution_count": 91
        }
      ]
    },
    {
      "cell_type": "markdown",
      "source": [
        "#STEP 3. DATA PREPARATION."
      ],
      "metadata": {
        "id": "vMX-dWLJ9HXm"
      }
    },
    {
      "cell_type": "code",
      "source": [
        "from sklearn.model_selection import train_test_split\n",
        "\n",
        "train_set, test_set = train_test_split(df, test_size=0.2, random_state=42)"
      ],
      "metadata": {
        "id": "Wu8Vh8IIlhFR"
      },
      "execution_count": 92,
      "outputs": []
    },
    {
      "cell_type": "code",
      "source": [
        "x_train = train_set.drop('price', axis=1)\n",
        "y_train = train_set['price'].copy()"
      ],
      "metadata": {
        "id": "Z0caHptcn5bY"
      },
      "execution_count": 95,
      "outputs": []
    },
    {
      "cell_type": "code",
      "source": [
        "df['district'].value_counts()"
      ],
      "metadata": {
        "id": "z1Js7I3SpPxY",
        "outputId": "45cef38a-41a8-4fd8-8a2c-50499df858c3",
        "colab": {
          "base_uri": "https://localhost:8080/"
        }
      },
      "execution_count": 96,
      "outputs": [
        {
          "output_type": "execute_result",
          "data": {
            "text/plain": [
              "Чиланзарский         1641\n",
              "Мирзо-Улугбекский    1382\n",
              "Юнусабадский          883\n",
              "Учтепинский           880\n",
              "Мирабадский           773\n",
              "Яккасарайский         658\n",
              "Яшнободский           484\n",
              "Шайхантахурский       396\n",
              "Олмазорский           269\n",
              "Сергелийский          175\n",
              "Янгихаётский           16\n",
              "Бектемирский            8\n",
              "Name: district, dtype: int64"
            ]
          },
          "metadata": {},
          "execution_count": 96
        }
      ]
    },
    {
      "cell_type": "code",
      "source": [
        "x_train_num = x_train.drop(['location', 'district'], axis=1)\n",
        "x_train_num"
      ],
      "metadata": {
        "id": "g2KtbZkrqG5Y",
        "outputId": "2cfb8ab0-f9c0-436a-8e58-eaecd018cecf",
        "colab": {
          "base_uri": "https://localhost:8080/",
          "height": 423
        }
      },
      "execution_count": 98,
      "outputs": [
        {
          "output_type": "execute_result",
          "data": {
            "text/plain": [
              "      rooms   size  level  max_levels\n",
              "4552      2   52.0      3           4\n",
              "4450      4  187.0      2           5\n",
              "1656      1   39.0      2           5\n",
              "3570      2   74.0      3           6\n",
              "6618      4  165.0      4           7\n",
              "...     ...    ...    ...         ...\n",
              "5191      3   70.0      4           4\n",
              "5226      4   92.0      9           9\n",
              "5390      2   49.0      1           3\n",
              "860       2   60.0      3           4\n",
              "7270      3   92.0      2           9\n",
              "\n",
              "[6052 rows x 4 columns]"
            ],
            "text/html": [
              "\n",
              "  <div id=\"df-fa98795d-94f6-4b45-8dd8-3a427d616c08\">\n",
              "    <div class=\"colab-df-container\">\n",
              "      <div>\n",
              "<style scoped>\n",
              "    .dataframe tbody tr th:only-of-type {\n",
              "        vertical-align: middle;\n",
              "    }\n",
              "\n",
              "    .dataframe tbody tr th {\n",
              "        vertical-align: top;\n",
              "    }\n",
              "\n",
              "    .dataframe thead th {\n",
              "        text-align: right;\n",
              "    }\n",
              "</style>\n",
              "<table border=\"1\" class=\"dataframe\">\n",
              "  <thead>\n",
              "    <tr style=\"text-align: right;\">\n",
              "      <th></th>\n",
              "      <th>rooms</th>\n",
              "      <th>size</th>\n",
              "      <th>level</th>\n",
              "      <th>max_levels</th>\n",
              "    </tr>\n",
              "  </thead>\n",
              "  <tbody>\n",
              "    <tr>\n",
              "      <th>4552</th>\n",
              "      <td>2</td>\n",
              "      <td>52.0</td>\n",
              "      <td>3</td>\n",
              "      <td>4</td>\n",
              "    </tr>\n",
              "    <tr>\n",
              "      <th>4450</th>\n",
              "      <td>4</td>\n",
              "      <td>187.0</td>\n",
              "      <td>2</td>\n",
              "      <td>5</td>\n",
              "    </tr>\n",
              "    <tr>\n",
              "      <th>1656</th>\n",
              "      <td>1</td>\n",
              "      <td>39.0</td>\n",
              "      <td>2</td>\n",
              "      <td>5</td>\n",
              "    </tr>\n",
              "    <tr>\n",
              "      <th>3570</th>\n",
              "      <td>2</td>\n",
              "      <td>74.0</td>\n",
              "      <td>3</td>\n",
              "      <td>6</td>\n",
              "    </tr>\n",
              "    <tr>\n",
              "      <th>6618</th>\n",
              "      <td>4</td>\n",
              "      <td>165.0</td>\n",
              "      <td>4</td>\n",
              "      <td>7</td>\n",
              "    </tr>\n",
              "    <tr>\n",
              "      <th>...</th>\n",
              "      <td>...</td>\n",
              "      <td>...</td>\n",
              "      <td>...</td>\n",
              "      <td>...</td>\n",
              "    </tr>\n",
              "    <tr>\n",
              "      <th>5191</th>\n",
              "      <td>3</td>\n",
              "      <td>70.0</td>\n",
              "      <td>4</td>\n",
              "      <td>4</td>\n",
              "    </tr>\n",
              "    <tr>\n",
              "      <th>5226</th>\n",
              "      <td>4</td>\n",
              "      <td>92.0</td>\n",
              "      <td>9</td>\n",
              "      <td>9</td>\n",
              "    </tr>\n",
              "    <tr>\n",
              "      <th>5390</th>\n",
              "      <td>2</td>\n",
              "      <td>49.0</td>\n",
              "      <td>1</td>\n",
              "      <td>3</td>\n",
              "    </tr>\n",
              "    <tr>\n",
              "      <th>860</th>\n",
              "      <td>2</td>\n",
              "      <td>60.0</td>\n",
              "      <td>3</td>\n",
              "      <td>4</td>\n",
              "    </tr>\n",
              "    <tr>\n",
              "      <th>7270</th>\n",
              "      <td>3</td>\n",
              "      <td>92.0</td>\n",
              "      <td>2</td>\n",
              "      <td>9</td>\n",
              "    </tr>\n",
              "  </tbody>\n",
              "</table>\n",
              "<p>6052 rows × 4 columns</p>\n",
              "</div>\n",
              "      <button class=\"colab-df-convert\" onclick=\"convertToInteractive('df-fa98795d-94f6-4b45-8dd8-3a427d616c08')\"\n",
              "              title=\"Convert this dataframe to an interactive table.\"\n",
              "              style=\"display:none;\">\n",
              "        \n",
              "  <svg xmlns=\"http://www.w3.org/2000/svg\" height=\"24px\"viewBox=\"0 0 24 24\"\n",
              "       width=\"24px\">\n",
              "    <path d=\"M0 0h24v24H0V0z\" fill=\"none\"/>\n",
              "    <path d=\"M18.56 5.44l.94 2.06.94-2.06 2.06-.94-2.06-.94-.94-2.06-.94 2.06-2.06.94zm-11 1L8.5 8.5l.94-2.06 2.06-.94-2.06-.94L8.5 2.5l-.94 2.06-2.06.94zm10 10l.94 2.06.94-2.06 2.06-.94-2.06-.94-.94-2.06-.94 2.06-2.06.94z\"/><path d=\"M17.41 7.96l-1.37-1.37c-.4-.4-.92-.59-1.43-.59-.52 0-1.04.2-1.43.59L10.3 9.45l-7.72 7.72c-.78.78-.78 2.05 0 2.83L4 21.41c.39.39.9.59 1.41.59.51 0 1.02-.2 1.41-.59l7.78-7.78 2.81-2.81c.8-.78.8-2.07 0-2.86zM5.41 20L4 18.59l7.72-7.72 1.47 1.35L5.41 20z\"/>\n",
              "  </svg>\n",
              "      </button>\n",
              "      \n",
              "  <style>\n",
              "    .colab-df-container {\n",
              "      display:flex;\n",
              "      flex-wrap:wrap;\n",
              "      gap: 12px;\n",
              "    }\n",
              "\n",
              "    .colab-df-convert {\n",
              "      background-color: #E8F0FE;\n",
              "      border: none;\n",
              "      border-radius: 50%;\n",
              "      cursor: pointer;\n",
              "      display: none;\n",
              "      fill: #1967D2;\n",
              "      height: 32px;\n",
              "      padding: 0 0 0 0;\n",
              "      width: 32px;\n",
              "    }\n",
              "\n",
              "    .colab-df-convert:hover {\n",
              "      background-color: #E2EBFA;\n",
              "      box-shadow: 0px 1px 2px rgba(60, 64, 67, 0.3), 0px 1px 3px 1px rgba(60, 64, 67, 0.15);\n",
              "      fill: #174EA6;\n",
              "    }\n",
              "\n",
              "    [theme=dark] .colab-df-convert {\n",
              "      background-color: #3B4455;\n",
              "      fill: #D2E3FC;\n",
              "    }\n",
              "\n",
              "    [theme=dark] .colab-df-convert:hover {\n",
              "      background-color: #434B5C;\n",
              "      box-shadow: 0px 1px 3px 1px rgba(0, 0, 0, 0.15);\n",
              "      filter: drop-shadow(0px 1px 2px rgba(0, 0, 0, 0.3));\n",
              "      fill: #FFFFFF;\n",
              "    }\n",
              "  </style>\n",
              "\n",
              "      <script>\n",
              "        const buttonEl =\n",
              "          document.querySelector('#df-fa98795d-94f6-4b45-8dd8-3a427d616c08 button.colab-df-convert');\n",
              "        buttonEl.style.display =\n",
              "          google.colab.kernel.accessAllowed ? 'block' : 'none';\n",
              "\n",
              "        async function convertToInteractive(key) {\n",
              "          const element = document.querySelector('#df-fa98795d-94f6-4b45-8dd8-3a427d616c08');\n",
              "          const dataTable =\n",
              "            await google.colab.kernel.invokeFunction('convertToInteractive',\n",
              "                                                     [key], {});\n",
              "          if (!dataTable) return;\n",
              "\n",
              "          const docLinkHtml = 'Like what you see? Visit the ' +\n",
              "            '<a target=\"_blank\" href=https://colab.research.google.com/notebooks/data_table.ipynb>data table notebook</a>'\n",
              "            + ' to learn more about interactive tables.';\n",
              "          element.innerHTML = '';\n",
              "          dataTable['output_type'] = 'display_data';\n",
              "          await google.colab.output.renderOutput(dataTable, element);\n",
              "          const docLink = document.createElement('div');\n",
              "          docLink.innerHTML = docLinkHtml;\n",
              "          element.appendChild(docLink);\n",
              "        }\n",
              "      </script>\n",
              "    </div>\n",
              "  </div>\n",
              "  "
            ]
          },
          "metadata": {},
          "execution_count": 98
        }
      ]
    },
    {
      "cell_type": "code",
      "source": [
        "x_train_cat = x_train[['district']]\n",
        "x_train_cat.head()"
      ],
      "metadata": {
        "id": "zX2PHbCbqssv",
        "outputId": "742512cd-9173-47ea-9597-f090fed22bb7",
        "colab": {
          "base_uri": "https://localhost:8080/",
          "height": 206
        }
      },
      "execution_count": 100,
      "outputs": [
        {
          "output_type": "execute_result",
          "data": {
            "text/plain": [
              "               district\n",
              "4552        Учтепинский\n",
              "4450  Мирзо-Улугбекский\n",
              "1656      Яккасарайский\n",
              "3570       Юнусабадский\n",
              "6618    Шайхантахурский"
            ],
            "text/html": [
              "\n",
              "  <div id=\"df-e5e0a35d-b9f5-4140-bf36-e6ee8b79ab41\">\n",
              "    <div class=\"colab-df-container\">\n",
              "      <div>\n",
              "<style scoped>\n",
              "    .dataframe tbody tr th:only-of-type {\n",
              "        vertical-align: middle;\n",
              "    }\n",
              "\n",
              "    .dataframe tbody tr th {\n",
              "        vertical-align: top;\n",
              "    }\n",
              "\n",
              "    .dataframe thead th {\n",
              "        text-align: right;\n",
              "    }\n",
              "</style>\n",
              "<table border=\"1\" class=\"dataframe\">\n",
              "  <thead>\n",
              "    <tr style=\"text-align: right;\">\n",
              "      <th></th>\n",
              "      <th>district</th>\n",
              "    </tr>\n",
              "  </thead>\n",
              "  <tbody>\n",
              "    <tr>\n",
              "      <th>4552</th>\n",
              "      <td>Учтепинский</td>\n",
              "    </tr>\n",
              "    <tr>\n",
              "      <th>4450</th>\n",
              "      <td>Мирзо-Улугбекский</td>\n",
              "    </tr>\n",
              "    <tr>\n",
              "      <th>1656</th>\n",
              "      <td>Яккасарайский</td>\n",
              "    </tr>\n",
              "    <tr>\n",
              "      <th>3570</th>\n",
              "      <td>Юнусабадский</td>\n",
              "    </tr>\n",
              "    <tr>\n",
              "      <th>6618</th>\n",
              "      <td>Шайхантахурский</td>\n",
              "    </tr>\n",
              "  </tbody>\n",
              "</table>\n",
              "</div>\n",
              "      <button class=\"colab-df-convert\" onclick=\"convertToInteractive('df-e5e0a35d-b9f5-4140-bf36-e6ee8b79ab41')\"\n",
              "              title=\"Convert this dataframe to an interactive table.\"\n",
              "              style=\"display:none;\">\n",
              "        \n",
              "  <svg xmlns=\"http://www.w3.org/2000/svg\" height=\"24px\"viewBox=\"0 0 24 24\"\n",
              "       width=\"24px\">\n",
              "    <path d=\"M0 0h24v24H0V0z\" fill=\"none\"/>\n",
              "    <path d=\"M18.56 5.44l.94 2.06.94-2.06 2.06-.94-2.06-.94-.94-2.06-.94 2.06-2.06.94zm-11 1L8.5 8.5l.94-2.06 2.06-.94-2.06-.94L8.5 2.5l-.94 2.06-2.06.94zm10 10l.94 2.06.94-2.06 2.06-.94-2.06-.94-.94-2.06-.94 2.06-2.06.94z\"/><path d=\"M17.41 7.96l-1.37-1.37c-.4-.4-.92-.59-1.43-.59-.52 0-1.04.2-1.43.59L10.3 9.45l-7.72 7.72c-.78.78-.78 2.05 0 2.83L4 21.41c.39.39.9.59 1.41.59.51 0 1.02-.2 1.41-.59l7.78-7.78 2.81-2.81c.8-.78.8-2.07 0-2.86zM5.41 20L4 18.59l7.72-7.72 1.47 1.35L5.41 20z\"/>\n",
              "  </svg>\n",
              "      </button>\n",
              "      \n",
              "  <style>\n",
              "    .colab-df-container {\n",
              "      display:flex;\n",
              "      flex-wrap:wrap;\n",
              "      gap: 12px;\n",
              "    }\n",
              "\n",
              "    .colab-df-convert {\n",
              "      background-color: #E8F0FE;\n",
              "      border: none;\n",
              "      border-radius: 50%;\n",
              "      cursor: pointer;\n",
              "      display: none;\n",
              "      fill: #1967D2;\n",
              "      height: 32px;\n",
              "      padding: 0 0 0 0;\n",
              "      width: 32px;\n",
              "    }\n",
              "\n",
              "    .colab-df-convert:hover {\n",
              "      background-color: #E2EBFA;\n",
              "      box-shadow: 0px 1px 2px rgba(60, 64, 67, 0.3), 0px 1px 3px 1px rgba(60, 64, 67, 0.15);\n",
              "      fill: #174EA6;\n",
              "    }\n",
              "\n",
              "    [theme=dark] .colab-df-convert {\n",
              "      background-color: #3B4455;\n",
              "      fill: #D2E3FC;\n",
              "    }\n",
              "\n",
              "    [theme=dark] .colab-df-convert:hover {\n",
              "      background-color: #434B5C;\n",
              "      box-shadow: 0px 1px 3px 1px rgba(0, 0, 0, 0.15);\n",
              "      filter: drop-shadow(0px 1px 2px rgba(0, 0, 0, 0.3));\n",
              "      fill: #FFFFFF;\n",
              "    }\n",
              "  </style>\n",
              "\n",
              "      <script>\n",
              "        const buttonEl =\n",
              "          document.querySelector('#df-e5e0a35d-b9f5-4140-bf36-e6ee8b79ab41 button.colab-df-convert');\n",
              "        buttonEl.style.display =\n",
              "          google.colab.kernel.accessAllowed ? 'block' : 'none';\n",
              "\n",
              "        async function convertToInteractive(key) {\n",
              "          const element = document.querySelector('#df-e5e0a35d-b9f5-4140-bf36-e6ee8b79ab41');\n",
              "          const dataTable =\n",
              "            await google.colab.kernel.invokeFunction('convertToInteractive',\n",
              "                                                     [key], {});\n",
              "          if (!dataTable) return;\n",
              "\n",
              "          const docLinkHtml = 'Like what you see? Visit the ' +\n",
              "            '<a target=\"_blank\" href=https://colab.research.google.com/notebooks/data_table.ipynb>data table notebook</a>'\n",
              "            + ' to learn more about interactive tables.';\n",
              "          element.innerHTML = '';\n",
              "          dataTable['output_type'] = 'display_data';\n",
              "          await google.colab.output.renderOutput(dataTable, element);\n",
              "          const docLink = document.createElement('div');\n",
              "          docLink.innerHTML = docLinkHtml;\n",
              "          element.appendChild(docLink);\n",
              "        }\n",
              "      </script>\n",
              "    </div>\n",
              "  </div>\n",
              "  "
            ]
          },
          "metadata": {},
          "execution_count": 100
        }
      ]
    },
    {
      "cell_type": "code",
      "source": [
        "from sklearn.pipeline import Pipeline\n",
        "from sklearn.impute import SimpleImputer\n",
        "from sklearn.preprocessing import OneHotEncoder, StandardScaler\n",
        "from sklearn.compose import ColumnTransformer\n",
        "\n",
        "num_pipeline = Pipeline([('std_scaler', StandardScaler())])\n",
        "\n",
        "num_attribs = list(x_train_num)\n",
        "cat_attribs = ['district']\n",
        "\n",
        "full_pipeline = ColumnTransformer([\n",
        "    ('num', num_pipeline, num_attribs),\n",
        "    ('cat', OneHotEncoder(), cat_attribs)\n",
        "])\n",
        "\n",
        "x_prepared = full_pipeline.fit_transform(x_train)\n",
        "\n",
        "x_prepared"
      ],
      "metadata": {
        "id": "I7EGqLFYsQCA",
        "outputId": "990d6f57-5a02-4aab-86f9-62ba0951baaf",
        "colab": {
          "base_uri": "https://localhost:8080/"
        }
      },
      "execution_count": 116,
      "outputs": [
        {
          "output_type": "execute_result",
          "data": {
            "text/plain": [
              "array([[-0.57746118, -0.03810586, -0.31266907, ...,  0.        ,\n",
              "         0.        ,  0.        ],\n",
              "       [ 1.25131698,  0.06793376, -0.75864437, ...,  0.        ,\n",
              "         0.        ,  0.        ],\n",
              "       [-1.49185026, -0.04831708, -0.75864437, ...,  1.        ,\n",
              "         0.        ,  0.        ],\n",
              "       ...,\n",
              "       [-0.57746118, -0.04046229, -1.20461968, ...,  0.        ,\n",
              "         0.        ,  0.        ],\n",
              "       [-0.57746118, -0.03182203, -0.31266907, ...,  0.        ,\n",
              "         0.        ,  0.        ],\n",
              "       [ 0.3369279 , -0.00668671, -0.75864437, ...,  0.        ,\n",
              "         0.        ,  0.        ]])"
            ]
          },
          "metadata": {},
          "execution_count": 116
        }
      ]
    },
    {
      "cell_type": "markdown",
      "source": [
        "#STEP 4. MODELING."
      ],
      "metadata": {
        "id": "Dkk1oRMM9d6E"
      }
    },
    {
      "cell_type": "code",
      "source": [
        "from sklearn.linear_model import LinearRegression\n",
        "LR_model = LinearRegression()\n",
        "\n",
        "LR_model.fit(x_prepared, y_train)"
      ],
      "metadata": {
        "id": "z1NxynCOt_8Q",
        "outputId": "201d9ed5-7f7c-4cc9-b7ab-99fe70efcd7d",
        "colab": {
          "base_uri": "https://localhost:8080/"
        }
      },
      "execution_count": 117,
      "outputs": [
        {
          "output_type": "execute_result",
          "data": {
            "text/plain": [
              "LinearRegression()"
            ]
          },
          "metadata": {},
          "execution_count": 117
        }
      ]
    },
    {
      "cell_type": "code",
      "source": [
        "predict=LR_model.predict(x_prepared)\n",
        "predict"
      ],
      "metadata": {
        "id": "mXJWEy6-3i_f",
        "outputId": "52ba21a9-262d-4cbc-ef90-ed291d853ae1",
        "colab": {
          "base_uri": "https://localhost:8080/"
        }
      },
      "execution_count": 119,
      "outputs": [
        {
          "output_type": "execute_result",
          "data": {
            "text/plain": [
              "array([ 93455.91809739, 111427.74799981,  23660.13089993, ...,\n",
              "        41837.49069923,  84377.34259327, 137511.88903836])"
            ]
          },
          "metadata": {},
          "execution_count": 119
        }
      ]
    },
    {
      "cell_type": "markdown",
      "source": [
        "#STEP 5. EVALUATION."
      ],
      "metadata": {
        "id": "lYXOzbPO9uUd"
      }
    },
    {
      "cell_type": "code",
      "source": [
        "pd.DataFrame({'Guesses':predict, 'Real prices': y_train})"
      ],
      "metadata": {
        "id": "K_JtJ_2R4gMf",
        "outputId": "fc137020-a83a-4e26-8d4a-530cf44580ff",
        "colab": {
          "base_uri": "https://localhost:8080/",
          "height": 423
        }
      },
      "execution_count": 120,
      "outputs": [
        {
          "output_type": "execute_result",
          "data": {
            "text/plain": [
              "            Guesses  Real prices\n",
              "4552   93455.918097        37000\n",
              "4450  111427.748000       210000\n",
              "1656   23660.130900        27500\n",
              "3570   50445.256450        46835\n",
              "6618  153008.572078       140000\n",
              "...             ...          ...\n",
              "5191   71471.732028        43500\n",
              "5226   80952.493161        56000\n",
              "5390   41837.490699        58500\n",
              "860    84377.342593        53000\n",
              "7270  137511.889038        50000\n",
              "\n",
              "[6052 rows x 2 columns]"
            ],
            "text/html": [
              "\n",
              "  <div id=\"df-9fe09e82-2fb9-497c-88bd-b4ec28e125e3\">\n",
              "    <div class=\"colab-df-container\">\n",
              "      <div>\n",
              "<style scoped>\n",
              "    .dataframe tbody tr th:only-of-type {\n",
              "        vertical-align: middle;\n",
              "    }\n",
              "\n",
              "    .dataframe tbody tr th {\n",
              "        vertical-align: top;\n",
              "    }\n",
              "\n",
              "    .dataframe thead th {\n",
              "        text-align: right;\n",
              "    }\n",
              "</style>\n",
              "<table border=\"1\" class=\"dataframe\">\n",
              "  <thead>\n",
              "    <tr style=\"text-align: right;\">\n",
              "      <th></th>\n",
              "      <th>Guesses</th>\n",
              "      <th>Real prices</th>\n",
              "    </tr>\n",
              "  </thead>\n",
              "  <tbody>\n",
              "    <tr>\n",
              "      <th>4552</th>\n",
              "      <td>93455.918097</td>\n",
              "      <td>37000</td>\n",
              "    </tr>\n",
              "    <tr>\n",
              "      <th>4450</th>\n",
              "      <td>111427.748000</td>\n",
              "      <td>210000</td>\n",
              "    </tr>\n",
              "    <tr>\n",
              "      <th>1656</th>\n",
              "      <td>23660.130900</td>\n",
              "      <td>27500</td>\n",
              "    </tr>\n",
              "    <tr>\n",
              "      <th>3570</th>\n",
              "      <td>50445.256450</td>\n",
              "      <td>46835</td>\n",
              "    </tr>\n",
              "    <tr>\n",
              "      <th>6618</th>\n",
              "      <td>153008.572078</td>\n",
              "      <td>140000</td>\n",
              "    </tr>\n",
              "    <tr>\n",
              "      <th>...</th>\n",
              "      <td>...</td>\n",
              "      <td>...</td>\n",
              "    </tr>\n",
              "    <tr>\n",
              "      <th>5191</th>\n",
              "      <td>71471.732028</td>\n",
              "      <td>43500</td>\n",
              "    </tr>\n",
              "    <tr>\n",
              "      <th>5226</th>\n",
              "      <td>80952.493161</td>\n",
              "      <td>56000</td>\n",
              "    </tr>\n",
              "    <tr>\n",
              "      <th>5390</th>\n",
              "      <td>41837.490699</td>\n",
              "      <td>58500</td>\n",
              "    </tr>\n",
              "    <tr>\n",
              "      <th>860</th>\n",
              "      <td>84377.342593</td>\n",
              "      <td>53000</td>\n",
              "    </tr>\n",
              "    <tr>\n",
              "      <th>7270</th>\n",
              "      <td>137511.889038</td>\n",
              "      <td>50000</td>\n",
              "    </tr>\n",
              "  </tbody>\n",
              "</table>\n",
              "<p>6052 rows × 2 columns</p>\n",
              "</div>\n",
              "      <button class=\"colab-df-convert\" onclick=\"convertToInteractive('df-9fe09e82-2fb9-497c-88bd-b4ec28e125e3')\"\n",
              "              title=\"Convert this dataframe to an interactive table.\"\n",
              "              style=\"display:none;\">\n",
              "        \n",
              "  <svg xmlns=\"http://www.w3.org/2000/svg\" height=\"24px\"viewBox=\"0 0 24 24\"\n",
              "       width=\"24px\">\n",
              "    <path d=\"M0 0h24v24H0V0z\" fill=\"none\"/>\n",
              "    <path d=\"M18.56 5.44l.94 2.06.94-2.06 2.06-.94-2.06-.94-.94-2.06-.94 2.06-2.06.94zm-11 1L8.5 8.5l.94-2.06 2.06-.94-2.06-.94L8.5 2.5l-.94 2.06-2.06.94zm10 10l.94 2.06.94-2.06 2.06-.94-2.06-.94-.94-2.06-.94 2.06-2.06.94z\"/><path d=\"M17.41 7.96l-1.37-1.37c-.4-.4-.92-.59-1.43-.59-.52 0-1.04.2-1.43.59L10.3 9.45l-7.72 7.72c-.78.78-.78 2.05 0 2.83L4 21.41c.39.39.9.59 1.41.59.51 0 1.02-.2 1.41-.59l7.78-7.78 2.81-2.81c.8-.78.8-2.07 0-2.86zM5.41 20L4 18.59l7.72-7.72 1.47 1.35L5.41 20z\"/>\n",
              "  </svg>\n",
              "      </button>\n",
              "      \n",
              "  <style>\n",
              "    .colab-df-container {\n",
              "      display:flex;\n",
              "      flex-wrap:wrap;\n",
              "      gap: 12px;\n",
              "    }\n",
              "\n",
              "    .colab-df-convert {\n",
              "      background-color: #E8F0FE;\n",
              "      border: none;\n",
              "      border-radius: 50%;\n",
              "      cursor: pointer;\n",
              "      display: none;\n",
              "      fill: #1967D2;\n",
              "      height: 32px;\n",
              "      padding: 0 0 0 0;\n",
              "      width: 32px;\n",
              "    }\n",
              "\n",
              "    .colab-df-convert:hover {\n",
              "      background-color: #E2EBFA;\n",
              "      box-shadow: 0px 1px 2px rgba(60, 64, 67, 0.3), 0px 1px 3px 1px rgba(60, 64, 67, 0.15);\n",
              "      fill: #174EA6;\n",
              "    }\n",
              "\n",
              "    [theme=dark] .colab-df-convert {\n",
              "      background-color: #3B4455;\n",
              "      fill: #D2E3FC;\n",
              "    }\n",
              "\n",
              "    [theme=dark] .colab-df-convert:hover {\n",
              "      background-color: #434B5C;\n",
              "      box-shadow: 0px 1px 3px 1px rgba(0, 0, 0, 0.15);\n",
              "      filter: drop-shadow(0px 1px 2px rgba(0, 0, 0, 0.3));\n",
              "      fill: #FFFFFF;\n",
              "    }\n",
              "  </style>\n",
              "\n",
              "      <script>\n",
              "        const buttonEl =\n",
              "          document.querySelector('#df-9fe09e82-2fb9-497c-88bd-b4ec28e125e3 button.colab-df-convert');\n",
              "        buttonEl.style.display =\n",
              "          google.colab.kernel.accessAllowed ? 'block' : 'none';\n",
              "\n",
              "        async function convertToInteractive(key) {\n",
              "          const element = document.querySelector('#df-9fe09e82-2fb9-497c-88bd-b4ec28e125e3');\n",
              "          const dataTable =\n",
              "            await google.colab.kernel.invokeFunction('convertToInteractive',\n",
              "                                                     [key], {});\n",
              "          if (!dataTable) return;\n",
              "\n",
              "          const docLinkHtml = 'Like what you see? Visit the ' +\n",
              "            '<a target=\"_blank\" href=https://colab.research.google.com/notebooks/data_table.ipynb>data table notebook</a>'\n",
              "            + ' to learn more about interactive tables.';\n",
              "          element.innerHTML = '';\n",
              "          dataTable['output_type'] = 'display_data';\n",
              "          await google.colab.output.renderOutput(dataTable, element);\n",
              "          const docLink = document.createElement('div');\n",
              "          docLink.innerHTML = docLinkHtml;\n",
              "          element.appendChild(docLink);\n",
              "        }\n",
              "      </script>\n",
              "    </div>\n",
              "  </div>\n",
              "  "
            ]
          },
          "metadata": {},
          "execution_count": 120
        }
      ]
    },
    {
      "cell_type": "code",
      "source": [
        "from sklearn.metrics import mean_squared_error\n",
        "mse=mean_squared_error(predict,y_train)\n",
        "error=np.sqrt(mse)\n",
        "print(error)"
      ],
      "metadata": {
        "id": "HACCXc-24rV3",
        "outputId": "f0266522-7ffd-413a-f223-27cb58a5fc74",
        "colab": {
          "base_uri": "https://localhost:8080/"
        }
      },
      "execution_count": 121,
      "outputs": [
        {
          "output_type": "stream",
          "name": "stdout",
          "text": [
            "701074.4688052656\n"
          ]
        }
      ]
    },
    {
      "cell_type": "code",
      "source": [
        "from sklearn.ensemble import RandomForestRegressor\n",
        "RF_model = RandomForestRegressor()\n",
        "RF_model.fit(x_prepared, y_train)"
      ],
      "metadata": {
        "id": "-ozdymdY4-6P",
        "outputId": "1220f373-5696-4c47-9b69-7a12bf4cacbb",
        "colab": {
          "base_uri": "https://localhost:8080/"
        }
      },
      "execution_count": 122,
      "outputs": [
        {
          "output_type": "execute_result",
          "data": {
            "text/plain": [
              "RandomForestRegressor()"
            ]
          },
          "metadata": {},
          "execution_count": 122
        }
      ]
    },
    {
      "cell_type": "code",
      "source": [
        "predict=RF_model.predict(x_prepared)\n",
        "predict"
      ],
      "metadata": {
        "id": "_t05F1GA5SFN",
        "outputId": "a1e49a02-d648-46f2-bbd5-8ee591724304",
        "colab": {
          "base_uri": "https://localhost:8080/"
        }
      },
      "execution_count": 126,
      "outputs": [
        {
          "output_type": "execute_result",
          "data": {
            "text/plain": [
              "array([ 38312.41666667, 226210.        ,  26778.11261794, ...,\n",
              "       134472.46794872,  49757.02813853,  57712.41666667])"
            ]
          },
          "metadata": {},
          "execution_count": 126
        }
      ]
    },
    {
      "cell_type": "code",
      "source": [
        "pd.DataFrame({'Guesses':predict, 'Real prices': y_train})"
      ],
      "metadata": {
        "id": "S9HPQlDL5Vrm",
        "outputId": "ba5c0efe-9ac9-4185-f1c6-f4cc0d2f9716",
        "colab": {
          "base_uri": "https://localhost:8080/",
          "height": 423
        }
      },
      "execution_count": 128,
      "outputs": [
        {
          "output_type": "execute_result",
          "data": {
            "text/plain": [
              "            Guesses  Real prices\n",
              "4552   38312.416667        37000\n",
              "4450  226210.000000       210000\n",
              "1656   26778.112618        27500\n",
              "3570   48114.780000        46835\n",
              "6618  143066.666667       140000\n",
              "...             ...          ...\n",
              "5191   55352.440637        43500\n",
              "5226   57870.988000        56000\n",
              "5390  134472.467949        58500\n",
              "860    49757.028139        53000\n",
              "7270   57712.416667        50000\n",
              "\n",
              "[6052 rows x 2 columns]"
            ],
            "text/html": [
              "\n",
              "  <div id=\"df-6d5a7c9b-4e13-40a7-b20d-0cd802ad3646\">\n",
              "    <div class=\"colab-df-container\">\n",
              "      <div>\n",
              "<style scoped>\n",
              "    .dataframe tbody tr th:only-of-type {\n",
              "        vertical-align: middle;\n",
              "    }\n",
              "\n",
              "    .dataframe tbody tr th {\n",
              "        vertical-align: top;\n",
              "    }\n",
              "\n",
              "    .dataframe thead th {\n",
              "        text-align: right;\n",
              "    }\n",
              "</style>\n",
              "<table border=\"1\" class=\"dataframe\">\n",
              "  <thead>\n",
              "    <tr style=\"text-align: right;\">\n",
              "      <th></th>\n",
              "      <th>Guesses</th>\n",
              "      <th>Real prices</th>\n",
              "    </tr>\n",
              "  </thead>\n",
              "  <tbody>\n",
              "    <tr>\n",
              "      <th>4552</th>\n",
              "      <td>38312.416667</td>\n",
              "      <td>37000</td>\n",
              "    </tr>\n",
              "    <tr>\n",
              "      <th>4450</th>\n",
              "      <td>226210.000000</td>\n",
              "      <td>210000</td>\n",
              "    </tr>\n",
              "    <tr>\n",
              "      <th>1656</th>\n",
              "      <td>26778.112618</td>\n",
              "      <td>27500</td>\n",
              "    </tr>\n",
              "    <tr>\n",
              "      <th>3570</th>\n",
              "      <td>48114.780000</td>\n",
              "      <td>46835</td>\n",
              "    </tr>\n",
              "    <tr>\n",
              "      <th>6618</th>\n",
              "      <td>143066.666667</td>\n",
              "      <td>140000</td>\n",
              "    </tr>\n",
              "    <tr>\n",
              "      <th>...</th>\n",
              "      <td>...</td>\n",
              "      <td>...</td>\n",
              "    </tr>\n",
              "    <tr>\n",
              "      <th>5191</th>\n",
              "      <td>55352.440637</td>\n",
              "      <td>43500</td>\n",
              "    </tr>\n",
              "    <tr>\n",
              "      <th>5226</th>\n",
              "      <td>57870.988000</td>\n",
              "      <td>56000</td>\n",
              "    </tr>\n",
              "    <tr>\n",
              "      <th>5390</th>\n",
              "      <td>134472.467949</td>\n",
              "      <td>58500</td>\n",
              "    </tr>\n",
              "    <tr>\n",
              "      <th>860</th>\n",
              "      <td>49757.028139</td>\n",
              "      <td>53000</td>\n",
              "    </tr>\n",
              "    <tr>\n",
              "      <th>7270</th>\n",
              "      <td>57712.416667</td>\n",
              "      <td>50000</td>\n",
              "    </tr>\n",
              "  </tbody>\n",
              "</table>\n",
              "<p>6052 rows × 2 columns</p>\n",
              "</div>\n",
              "      <button class=\"colab-df-convert\" onclick=\"convertToInteractive('df-6d5a7c9b-4e13-40a7-b20d-0cd802ad3646')\"\n",
              "              title=\"Convert this dataframe to an interactive table.\"\n",
              "              style=\"display:none;\">\n",
              "        \n",
              "  <svg xmlns=\"http://www.w3.org/2000/svg\" height=\"24px\"viewBox=\"0 0 24 24\"\n",
              "       width=\"24px\">\n",
              "    <path d=\"M0 0h24v24H0V0z\" fill=\"none\"/>\n",
              "    <path d=\"M18.56 5.44l.94 2.06.94-2.06 2.06-.94-2.06-.94-.94-2.06-.94 2.06-2.06.94zm-11 1L8.5 8.5l.94-2.06 2.06-.94-2.06-.94L8.5 2.5l-.94 2.06-2.06.94zm10 10l.94 2.06.94-2.06 2.06-.94-2.06-.94-.94-2.06-.94 2.06-2.06.94z\"/><path d=\"M17.41 7.96l-1.37-1.37c-.4-.4-.92-.59-1.43-.59-.52 0-1.04.2-1.43.59L10.3 9.45l-7.72 7.72c-.78.78-.78 2.05 0 2.83L4 21.41c.39.39.9.59 1.41.59.51 0 1.02-.2 1.41-.59l7.78-7.78 2.81-2.81c.8-.78.8-2.07 0-2.86zM5.41 20L4 18.59l7.72-7.72 1.47 1.35L5.41 20z\"/>\n",
              "  </svg>\n",
              "      </button>\n",
              "      \n",
              "  <style>\n",
              "    .colab-df-container {\n",
              "      display:flex;\n",
              "      flex-wrap:wrap;\n",
              "      gap: 12px;\n",
              "    }\n",
              "\n",
              "    .colab-df-convert {\n",
              "      background-color: #E8F0FE;\n",
              "      border: none;\n",
              "      border-radius: 50%;\n",
              "      cursor: pointer;\n",
              "      display: none;\n",
              "      fill: #1967D2;\n",
              "      height: 32px;\n",
              "      padding: 0 0 0 0;\n",
              "      width: 32px;\n",
              "    }\n",
              "\n",
              "    .colab-df-convert:hover {\n",
              "      background-color: #E2EBFA;\n",
              "      box-shadow: 0px 1px 2px rgba(60, 64, 67, 0.3), 0px 1px 3px 1px rgba(60, 64, 67, 0.15);\n",
              "      fill: #174EA6;\n",
              "    }\n",
              "\n",
              "    [theme=dark] .colab-df-convert {\n",
              "      background-color: #3B4455;\n",
              "      fill: #D2E3FC;\n",
              "    }\n",
              "\n",
              "    [theme=dark] .colab-df-convert:hover {\n",
              "      background-color: #434B5C;\n",
              "      box-shadow: 0px 1px 3px 1px rgba(0, 0, 0, 0.15);\n",
              "      filter: drop-shadow(0px 1px 2px rgba(0, 0, 0, 0.3));\n",
              "      fill: #FFFFFF;\n",
              "    }\n",
              "  </style>\n",
              "\n",
              "      <script>\n",
              "        const buttonEl =\n",
              "          document.querySelector('#df-6d5a7c9b-4e13-40a7-b20d-0cd802ad3646 button.colab-df-convert');\n",
              "        buttonEl.style.display =\n",
              "          google.colab.kernel.accessAllowed ? 'block' : 'none';\n",
              "\n",
              "        async function convertToInteractive(key) {\n",
              "          const element = document.querySelector('#df-6d5a7c9b-4e13-40a7-b20d-0cd802ad3646');\n",
              "          const dataTable =\n",
              "            await google.colab.kernel.invokeFunction('convertToInteractive',\n",
              "                                                     [key], {});\n",
              "          if (!dataTable) return;\n",
              "\n",
              "          const docLinkHtml = 'Like what you see? Visit the ' +\n",
              "            '<a target=\"_blank\" href=https://colab.research.google.com/notebooks/data_table.ipynb>data table notebook</a>'\n",
              "            + ' to learn more about interactive tables.';\n",
              "          element.innerHTML = '';\n",
              "          dataTable['output_type'] = 'display_data';\n",
              "          await google.colab.output.renderOutput(dataTable, element);\n",
              "          const docLink = document.createElement('div');\n",
              "          docLink.innerHTML = docLinkHtml;\n",
              "          element.appendChild(docLink);\n",
              "        }\n",
              "      </script>\n",
              "    </div>\n",
              "  </div>\n",
              "  "
            ]
          },
          "metadata": {},
          "execution_count": 128
        }
      ]
    },
    {
      "cell_type": "code",
      "source": [
        "from sklearn.metrics import mean_squared_error\n",
        "mse=mean_squared_error(predict,y_train)\n",
        "error=np.sqrt(mse)\n",
        "print(error)"
      ],
      "metadata": {
        "id": "jQ5IL-AR5ZJt",
        "outputId": "a5112cf4-d663-4d68-d4c5-4fd54927a508",
        "colab": {
          "base_uri": "https://localhost:8080/"
        }
      },
      "execution_count": 127,
      "outputs": [
        {
          "output_type": "stream",
          "name": "stdout",
          "text": [
            "306862.87141365645\n"
          ]
        }
      ]
    },
    {
      "cell_type": "code",
      "source": [
        "X = df.drop(\"price\", axis=1)\n",
        "y = df[\"price\"].copy()\n",
        "X_prepared = full_pipeline.transform(X)\n"
      ],
      "metadata": {
        "id": "-5bEMzgy5eev"
      },
      "execution_count": 129,
      "outputs": []
    },
    {
      "cell_type": "code",
      "source": [
        "def display_scores(scores):\n",
        "  print(\"Scores:\", scores)\n",
        "  print(\"Mean:\", scores.mean())\n",
        "  print(\"Std.dev:\", scores.std())\n"
      ],
      "metadata": {
        "id": "Fju_Ut1P6Z8O"
      },
      "execution_count": 130,
      "outputs": []
    },
    {
      "cell_type": "code",
      "source": [
        "from sklearn.model_selection import cross_val_score\n",
        "\n",
        "scores = cross_val_score(LR_model, X_prepared, y, scoring=\"neg_mean_squared_error\", cv=10)\n",
        "LR_rmse_scores = np.sqrt(-scores)\n",
        "\n",
        "display_scores(LR_rmse_scores)"
      ],
      "metadata": {
        "id": "FuvpsfMX6hkm",
        "outputId": "90a12902-fe5d-401e-d650-d7e79bcd9a76",
        "colab": {
          "base_uri": "https://localhost:8080/"
        }
      },
      "execution_count": 131,
      "outputs": [
        {
          "output_type": "stream",
          "name": "stdout",
          "text": [
            "Scores: [  72046.62341122   46241.22000378  143483.57875335   42268.46914413\n",
            "   48655.12571508   43248.50372939   51699.79841165 1888787.404122\n",
            "  165637.3627407   645796.64695378]\n",
            "Mean: 314786.4732985086\n",
            "Std.dev: 552966.1306194335\n"
          ]
        }
      ]
    },
    {
      "cell_type": "code",
      "source": [
        "scores = cross_val_score(RF_model, X_prepared, y, scoring=\"neg_mean_squared_error\", cv=10)\n",
        "LR_rmse_scores = np.sqrt(-scores)\n",
        "display_scores(LR_rmse_scores)"
      ],
      "metadata": {
        "id": "6cSBHNse7iZ3",
        "outputId": "8e5ad11d-4ae0-44a2-b7dc-578295544cd9",
        "colab": {
          "base_uri": "https://localhost:8080/"
        }
      },
      "execution_count": 132,
      "outputs": [
        {
          "output_type": "stream",
          "name": "stdout",
          "text": [
            "Scores: [  68686.7580128    80466.31091953  220928.11235842   67486.70722113\n",
            "  441198.64878253  158367.71246163  247753.44814095 1890460.49414186\n",
            "  343156.71300112  653481.79710602]\n",
            "Mean: 417198.67021459824\n",
            "Std.dev: 521896.8576217086\n"
          ]
        }
      ]
    },
    {
      "cell_type": "code",
      "source": [
        "import joblib\n",
        "\n",
        "filename = 'LR_model.jbl'\n",
        "joblib.dump(LR_model, filename)"
      ],
      "metadata": {
        "id": "DLcwoM3o8DXX",
        "outputId": "df44f175-2128-4be8-c54d-ab2798b902ed",
        "colab": {
          "base_uri": "https://localhost:8080/"
        }
      },
      "execution_count": 133,
      "outputs": [
        {
          "output_type": "execute_result",
          "data": {
            "text/plain": [
              "['LR_model.jbl']"
            ]
          },
          "metadata": {},
          "execution_count": 133
        }
      ]
    }
  ]
}